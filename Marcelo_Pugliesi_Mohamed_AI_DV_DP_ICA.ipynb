{
  "nbformat": 4,
  "nbformat_minor": 0,
  "metadata": {
    "colab": {
      "name": "Marcelo_Pugliesi_Mohamed_AI_DV_DP_ICA.ipynb",
      "provenance": [],
      "collapsed_sections": [],
      "authorship_tag": "ABX9TyPdgAt+txq4XO/r1YdTHdBx",
      "include_colab_link": true
    },
    "kernelspec": {
      "name": "ir",
      "display_name": "R"
    },
    "language_info": {
      "name": "R"
    }
  },
  "cells": [
    {
      "cell_type": "markdown",
      "metadata": {
        "id": "view-in-github",
        "colab_type": "text"
      },
      "source": [
        "<a href=\"https://colab.research.google.com/github/masp42/integrate_CA/blob/main/Marcelo_Pugliesi_Mohamed_AI_DV_DP_ICA.ipynb\" target=\"_parent\"><img src=\"https://colab.research.google.com/assets/colab-badge.svg\" alt=\"Open In Colab\"/></a>"
      ]
    },
    {
      "cell_type": "code",
      "execution_count": 18,
      "metadata": {
        "id": "0MXo8qSGNC9F"
      },
      "outputs": [],
      "source": [
        "library(readr)\n",
        "library(lubridate)\n",
        "library(dplyr)\n",
        "library(tidyverse)\n",
        "library(ggplot2)\n",
        "library(purrr)"
      ]
    },
    {
      "cell_type": "code",
      "source": [
        "df <- read.csv(\"https://raw.githubusercontent.com/masp42/integrate_CA/main/forestfires.csv\")"
      ],
      "metadata": {
        "id": "ZQLJyiHHPqMy"
      },
      "execution_count": 23,
      "outputs": []
    },
    {
      "cell_type": "code",
      "source": [
        "# Number of data cases and variables\n",
        "dim(df)"
      ],
      "metadata": {
        "colab": {
          "base_uri": "https://localhost:8080/",
          "height": 33
        },
        "id": "34W2gGRbzKUg",
        "outputId": "21962dd3-1431-4aa3-d806-12fb784a43d2"
      },
      "execution_count": 24,
      "outputs": [
        {
          "output_type": "display_data",
          "data": {
            "text/plain": [
              "[1] 517  13"
            ],
            "text/latex": "\\begin{enumerate*}\n\\item 517\n\\item 13\n\\end{enumerate*}\n",
            "text/markdown": "1. 517\n2. 13\n\n\n",
            "text/html": [
              "<style>\n",
              ".list-inline {list-style: none; margin:0; padding: 0}\n",
              ".list-inline>li {display: inline-block}\n",
              ".list-inline>li:not(:last-child)::after {content: \"\\00b7\"; padding: 0 .5ex}\n",
              "</style>\n",
              "<ol class=list-inline><li>517</li><li>13</li></ol>\n"
            ]
          },
          "metadata": {}
        }
      ]
    },
    {
      "cell_type": "code",
      "source": [
        "# Names of variables\n",
        "colnames(df)"
      ],
      "metadata": {
        "colab": {
          "base_uri": "https://localhost:8080/",
          "height": 33
        },
        "id": "0O9kMaC2zK0X",
        "outputId": "f7c5798a-da76-4bf2-f6d5-b24530405262"
      },
      "execution_count": 25,
      "outputs": [
        {
          "output_type": "display_data",
          "data": {
            "text/plain": [
              " [1] \"X\"     \"Y\"     \"month\" \"day\"   \"FFMC\"  \"DMC\"   \"DC\"    \"ISI\"   \"temp\" \n",
              "[10] \"RH\"    \"wind\"  \"rain\"  \"area\" "
            ],
            "text/latex": "\\begin{enumerate*}\n\\item 'X'\n\\item 'Y'\n\\item 'month'\n\\item 'day'\n\\item 'FFMC'\n\\item 'DMC'\n\\item 'DC'\n\\item 'ISI'\n\\item 'temp'\n\\item 'RH'\n\\item 'wind'\n\\item 'rain'\n\\item 'area'\n\\end{enumerate*}\n",
            "text/markdown": "1. 'X'\n2. 'Y'\n3. 'month'\n4. 'day'\n5. 'FFMC'\n6. 'DMC'\n7. 'DC'\n8. 'ISI'\n9. 'temp'\n10. 'RH'\n11. 'wind'\n12. 'rain'\n13. 'area'\n\n\n",
            "text/html": [
              "<style>\n",
              ".list-inline {list-style: none; margin:0; padding: 0}\n",
              ".list-inline>li {display: inline-block}\n",
              ".list-inline>li:not(:last-child)::after {content: \"\\00b7\"; padding: 0 .5ex}\n",
              "</style>\n",
              "<ol class=list-inline><li>'X'</li><li>'Y'</li><li>'month'</li><li>'day'</li><li>'FFMC'</li><li>'DMC'</li><li>'DC'</li><li>'ISI'</li><li>'temp'</li><li>'RH'</li><li>'wind'</li><li>'rain'</li><li>'area'</li></ol>\n"
            ]
          },
          "metadata": {}
        }
      ]
    },
    {
      "cell_type": "code",
      "source": [
        "# Checking if any data is missing\n",
        "sum(is.na(df))"
      ],
      "metadata": {
        "colab": {
          "base_uri": "https://localhost:8080/",
          "height": 33
        },
        "id": "duAeVLmLzLEf",
        "outputId": "83117ea5-bc70-4d7b-f52a-f909dd06c190"
      },
      "execution_count": 26,
      "outputs": [
        {
          "output_type": "display_data",
          "data": {
            "text/plain": [
              "[1] 0"
            ],
            "text/latex": "0",
            "text/markdown": "0",
            "text/html": [
              "0"
            ]
          },
          "metadata": {}
        }
      ]
    },
    {
      "cell_type": "code",
      "source": [
        "\n",
        "ggplot(df, aes(x = area)) +\n",
        "  geom_histogram(bins = 50, binwidth=60, color = 'green',fill = 'blue')"
      ],
      "metadata": {
        "colab": {
          "base_uri": "https://localhost:8080/",
          "height": 437
        },
        "id": "RHWbM1RA1Kbe",
        "outputId": "70e77911-099b-47a7-e305-d4e668b52f4f"
      },
      "execution_count": 58,
      "outputs": [
        {
          "output_type": "display_data",
          "data": {
            "image/png": "[encoded data removed]",
            "text/plain": [
              "plot without title"
            ]
          },
          "metadata": {
            "image/png": {
              "width": 420,
              "height": 420
            }
          }
        }
      ]
    }
  ]
}