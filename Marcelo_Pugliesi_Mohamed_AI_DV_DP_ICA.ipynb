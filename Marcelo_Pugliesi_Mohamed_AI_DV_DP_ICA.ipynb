{
  "nbformat": 4,
  "nbformat_minor": 0,
  "metadata": {
    "colab": {
      "name": "Marcelo_Pugliesi_Mohamed_AI_DV_DP_ICA.ipynb",
      "provenance": [],
      "collapsed_sections": [],
      "authorship_tag": "ABX9TyN6gmYDUayY6Pi36AScU05o",
      "include_colab_link": true
    },
    "kernelspec": {
      "name": "ir",
      "display_name": "R"
    },
    "language_info": {
      "name": "R"
    }
  },
  "cells": [
    {
      "cell_type": "markdown",
      "metadata": {
        "id": "view-in-github",
        "colab_type": "text"
      },
      "source": [
        "<a href=\"https://colab.research.google.com/github/masp42/integrate_CA/blob/main/Marcelo_Pugliesi_Mohamed_AI_DV_DP_ICA.ipynb\" target=\"_parent\"><img src=\"https://colab.research.google.com/assets/colab-badge.svg\" alt=\"Open In Colab\"/></a>"
      ]
    },
    {
      "cell_type": "code",
      "execution_count": 1,
      "metadata": {
        "id": "0MXo8qSGNC9F",
        "colab": {
          "base_uri": "https://localhost:8080/"
        },
        "outputId": "4fd5c00f-9c5e-48e3-df3f-e204b22ec711"
      },
      "outputs": [
        {
          "output_type": "stream",
          "name": "stderr",
          "text": [
            "Warning message in system(\"timedatectl\", intern = TRUE):\n",
            "“running command 'timedatectl' had status 1”\n",
            "\n",
            "Attaching package: ‘lubridate’\n",
            "\n",
            "\n",
            "The following objects are masked from ‘package:base’:\n",
            "\n",
            "    date, intersect, setdiff, union\n",
            "\n",
            "\n",
            "\n",
            "Attaching package: ‘dplyr’\n",
            "\n",
            "\n",
            "The following objects are masked from ‘package:stats’:\n",
            "\n",
            "    filter, lag\n",
            "\n",
            "\n",
            "The following objects are masked from ‘package:base’:\n",
            "\n",
            "    intersect, setdiff, setequal, union\n",
            "\n",
            "\n",
            "── \u001b[1mAttaching packages\u001b[22m ─────────────────────────────────────── tidyverse 1.3.1 ──\n",
            "\n",
            "\u001b[32m✔\u001b[39m \u001b[34mggplot2\u001b[39m 3.3.5     \u001b[32m✔\u001b[39m \u001b[34mpurrr  \u001b[39m 0.3.4\n",
            "\u001b[32m✔\u001b[39m \u001b[34mtibble \u001b[39m 3.1.6     \u001b[32m✔\u001b[39m \u001b[34mstringr\u001b[39m 1.4.0\n",
            "\u001b[32m✔\u001b[39m \u001b[34mtidyr  \u001b[39m 1.1.4     \u001b[32m✔\u001b[39m \u001b[34mforcats\u001b[39m 0.5.1\n",
            "\n",
            "── \u001b[1mConflicts\u001b[22m ────────────────────────────────────────── tidyverse_conflicts() ──\n",
            "\u001b[31m✖\u001b[39m \u001b[34mlubridate\u001b[39m::\u001b[32mas.difftime()\u001b[39m masks \u001b[34mbase\u001b[39m::as.difftime()\n",
            "\u001b[31m✖\u001b[39m \u001b[34mlubridate\u001b[39m::\u001b[32mdate()\u001b[39m        masks \u001b[34mbase\u001b[39m::date()\n",
            "\u001b[31m✖\u001b[39m \u001b[34mdplyr\u001b[39m::\u001b[32mfilter()\u001b[39m          masks \u001b[34mstats\u001b[39m::filter()\n",
            "\u001b[31m✖\u001b[39m \u001b[34mlubridate\u001b[39m::\u001b[32mintersect()\u001b[39m   masks \u001b[34mbase\u001b[39m::intersect()\n",
            "\u001b[31m✖\u001b[39m \u001b[34mdplyr\u001b[39m::\u001b[32mlag()\u001b[39m             masks \u001b[34mstats\u001b[39m::lag()\n",
            "\u001b[31m✖\u001b[39m \u001b[34mlubridate\u001b[39m::\u001b[32msetdiff()\u001b[39m     masks \u001b[34mbase\u001b[39m::setdiff()\n",
            "\u001b[31m✖\u001b[39m \u001b[34mlubridate\u001b[39m::\u001b[32munion()\u001b[39m       masks \u001b[34mbase\u001b[39m::union()\n",
            "\n"
          ]
        }
      ],
      "source": [
        "library(readr)\n",
        "library(lubridate)\n",
        "library(dplyr)\n",
        "library(tidyverse)\n",
        "library(ggplot2)\n",
        "library(purrr)\n",
        "library(stringr)"
      ]
    },
    {
      "cell_type": "code",
      "source": [
        "df <- read.csv(\"https://raw.githubusercontent.com/masp42/integrate_CA/main/forestfires.csv\")"
      ],
      "metadata": {
        "id": "ZQLJyiHHPqMy"
      },
      "execution_count": 2,
      "outputs": []
    },
    {
      "cell_type": "code",
      "source": [
        "head(df)"
      ],
      "metadata": {
        "colab": {
          "base_uri": "https://localhost:8080/",
          "height": 286
        },
        "id": "DjzdxKlHGPft",
        "outputId": "86a7fb34-b3c3-4dce-a628-e29befecdda7"
      },
      "execution_count": 3,
      "outputs": [
        {
          "output_type": "display_data",
          "data": {
            "text/plain": [
              "  X Y month day FFMC DMC  DC    ISI  temp RH wind rain area\n",
              "1 7 5 mar   fri 86.2 26.2  94.3  5.1  8.2 51 6.7  0.0  0   \n",
              "2 7 4 oct   tue 90.6 35.4 669.1  6.7 18.0 33 0.9  0.0  0   \n",
              "3 7 4 oct   sat 90.6 43.7 686.9  6.7 14.6 33 1.3  0.0  0   \n",
              "4 8 6 mar   fri 91.7 33.3  77.5  9.0  8.3 97 4.0  0.2  0   \n",
              "5 8 6 mar   sun 89.3 51.3 102.2  9.6 11.4 99 1.8  0.0  0   \n",
              "6 8 6 aug   sun 92.3 85.3 488.0 14.7 22.2 29 5.4  0.0  0   "
            ],
            "text/latex": "A data.frame: 6 × 13\n\\begin{tabular}{r|lllllllllllll}\n  & X & Y & month & day & FFMC & DMC & DC & ISI & temp & RH & wind & rain & area\\\\\n  & <int> & <int> & <chr> & <chr> & <dbl> & <dbl> & <dbl> & <dbl> & <dbl> & <int> & <dbl> & <dbl> & <dbl>\\\\\n\\hline\n\t1 & 7 & 5 & mar & fri & 86.2 & 26.2 &  94.3 &  5.1 &  8.2 & 51 & 6.7 & 0.0 & 0\\\\\n\t2 & 7 & 4 & oct & tue & 90.6 & 35.4 & 669.1 &  6.7 & 18.0 & 33 & 0.9 & 0.0 & 0\\\\\n\t3 & 7 & 4 & oct & sat & 90.6 & 43.7 & 686.9 &  6.7 & 14.6 & 33 & 1.3 & 0.0 & 0\\\\\n\t4 & 8 & 6 & mar & fri & 91.7 & 33.3 &  77.5 &  9.0 &  8.3 & 97 & 4.0 & 0.2 & 0\\\\\n\t5 & 8 & 6 & mar & sun & 89.3 & 51.3 & 102.2 &  9.6 & 11.4 & 99 & 1.8 & 0.0 & 0\\\\\n\t6 & 8 & 6 & aug & sun & 92.3 & 85.3 & 488.0 & 14.7 & 22.2 & 29 & 5.4 & 0.0 & 0\\\\\n\\end{tabular}\n",
            "text/markdown": "\nA data.frame: 6 × 13\n\n| <!--/--> | X &lt;int&gt; | Y &lt;int&gt; | month &lt;chr&gt; | day &lt;chr&gt; | FFMC &lt;dbl&gt; | DMC &lt;dbl&gt; | DC &lt;dbl&gt; | ISI &lt;dbl&gt; | temp &lt;dbl&gt; | RH &lt;int&gt; | wind &lt;dbl&gt; | rain &lt;dbl&gt; | area &lt;dbl&gt; |\n|---|---|---|---|---|---|---|---|---|---|---|---|---|---|\n| 1 | 7 | 5 | mar | fri | 86.2 | 26.2 |  94.3 |  5.1 |  8.2 | 51 | 6.7 | 0.0 | 0 |\n| 2 | 7 | 4 | oct | tue | 90.6 | 35.4 | 669.1 |  6.7 | 18.0 | 33 | 0.9 | 0.0 | 0 |\n| 3 | 7 | 4 | oct | sat | 90.6 | 43.7 | 686.9 |  6.7 | 14.6 | 33 | 1.3 | 0.0 | 0 |\n| 4 | 8 | 6 | mar | fri | 91.7 | 33.3 |  77.5 |  9.0 |  8.3 | 97 | 4.0 | 0.2 | 0 |\n| 5 | 8 | 6 | mar | sun | 89.3 | 51.3 | 102.2 |  9.6 | 11.4 | 99 | 1.8 | 0.0 | 0 |\n| 6 | 8 | 6 | aug | sun | 92.3 | 85.3 | 488.0 | 14.7 | 22.2 | 29 | 5.4 | 0.0 | 0 |\n\n",
            "text/html": [
              "<table class=\"dataframe\">\n",
              "<caption>A data.frame: 6 × 13</caption>\n",
              "<thead>\n",
              "\t<tr><th></th><th scope=col>X</th><th scope=col>Y</th><th scope=col>month</th><th scope=col>day</th><th scope=col>FFMC</th><th scope=col>DMC</th><th scope=col>DC</th><th scope=col>ISI</th><th scope=col>temp</th><th scope=col>RH</th><th scope=col>wind</th><th scope=col>rain</th><th scope=col>area</th></tr>\n",
              "\t<tr><th></th><th scope=col>&lt;int&gt;</th><th scope=col>&lt;int&gt;</th><th scope=col>&lt;chr&gt;</th><th scope=col>&lt;chr&gt;</th><th scope=col>&lt;dbl&gt;</th><th scope=col>&lt;dbl&gt;</th><th scope=col>&lt;dbl&gt;</th><th scope=col>&lt;dbl&gt;</th><th scope=col>&lt;dbl&gt;</th><th scope=col>&lt;int&gt;</th><th scope=col>&lt;dbl&gt;</th><th scope=col>&lt;dbl&gt;</th><th scope=col>&lt;dbl&gt;</th></tr>\n",
              "</thead>\n",
              "<tbody>\n",
              "\t<tr><th scope=row>1</th><td>7</td><td>5</td><td>mar</td><td>fri</td><td>86.2</td><td>26.2</td><td> 94.3</td><td> 5.1</td><td> 8.2</td><td>51</td><td>6.7</td><td>0.0</td><td>0</td></tr>\n",
              "\t<tr><th scope=row>2</th><td>7</td><td>4</td><td>oct</td><td>tue</td><td>90.6</td><td>35.4</td><td>669.1</td><td> 6.7</td><td>18.0</td><td>33</td><td>0.9</td><td>0.0</td><td>0</td></tr>\n",
              "\t<tr><th scope=row>3</th><td>7</td><td>4</td><td>oct</td><td>sat</td><td>90.6</td><td>43.7</td><td>686.9</td><td> 6.7</td><td>14.6</td><td>33</td><td>1.3</td><td>0.0</td><td>0</td></tr>\n",
              "\t<tr><th scope=row>4</th><td>8</td><td>6</td><td>mar</td><td>fri</td><td>91.7</td><td>33.3</td><td> 77.5</td><td> 9.0</td><td> 8.3</td><td>97</td><td>4.0</td><td>0.2</td><td>0</td></tr>\n",
              "\t<tr><th scope=row>5</th><td>8</td><td>6</td><td>mar</td><td>sun</td><td>89.3</td><td>51.3</td><td>102.2</td><td> 9.6</td><td>11.4</td><td>99</td><td>1.8</td><td>0.0</td><td>0</td></tr>\n",
              "\t<tr><th scope=row>6</th><td>8</td><td>6</td><td>aug</td><td>sun</td><td>92.3</td><td>85.3</td><td>488.0</td><td>14.7</td><td>22.2</td><td>29</td><td>5.4</td><td>0.0</td><td>0</td></tr>\n",
              "</tbody>\n",
              "</table>\n"
            ]
          },
          "metadata": {}
        }
      ]
    },
    {
      "cell_type": "code",
      "source": [
        "# Number of data cases and variables\n",
        "dim(df)"
      ],
      "metadata": {
        "colab": {
          "base_uri": "https://localhost:8080/",
          "height": 33
        },
        "id": "34W2gGRbzKUg",
        "outputId": "1679ae0a-a539-446b-f5b5-54f12dfcbe0f"
      },
      "execution_count": 4,
      "outputs": [
        {
          "output_type": "display_data",
          "data": {
            "text/plain": [
              "[1] 517  13"
            ],
            "text/latex": "\\begin{enumerate*}\n\\item 517\n\\item 13\n\\end{enumerate*}\n",
            "text/markdown": "1. 517\n2. 13\n\n\n",
            "text/html": [
              "<style>\n",
              ".list-inline {list-style: none; margin:0; padding: 0}\n",
              ".list-inline>li {display: inline-block}\n",
              ".list-inline>li:not(:last-child)::after {content: \"\\00b7\"; padding: 0 .5ex}\n",
              "</style>\n",
              "<ol class=list-inline><li>517</li><li>13</li></ol>\n"
            ]
          },
          "metadata": {}
        }
      ]
    },
    {
      "cell_type": "code",
      "source": [
        "# Names of variables\n",
        "colnames(df)"
      ],
      "metadata": {
        "colab": {
          "base_uri": "https://localhost:8080/",
          "height": 33
        },
        "id": "0O9kMaC2zK0X",
        "outputId": "2750e62e-8a73-43a6-a5a4-783a6852d49b"
      },
      "execution_count": 5,
      "outputs": [
        {
          "output_type": "display_data",
          "data": {
            "text/plain": [
              " [1] \"X\"     \"Y\"     \"month\" \"day\"   \"FFMC\"  \"DMC\"   \"DC\"    \"ISI\"   \"temp\" \n",
              "[10] \"RH\"    \"wind\"  \"rain\"  \"area\" "
            ],
            "text/latex": "\\begin{enumerate*}\n\\item 'X'\n\\item 'Y'\n\\item 'month'\n\\item 'day'\n\\item 'FFMC'\n\\item 'DMC'\n\\item 'DC'\n\\item 'ISI'\n\\item 'temp'\n\\item 'RH'\n\\item 'wind'\n\\item 'rain'\n\\item 'area'\n\\end{enumerate*}\n",
            "text/markdown": "1. 'X'\n2. 'Y'\n3. 'month'\n4. 'day'\n5. 'FFMC'\n6. 'DMC'\n7. 'DC'\n8. 'ISI'\n9. 'temp'\n10. 'RH'\n11. 'wind'\n12. 'rain'\n13. 'area'\n\n\n",
            "text/html": [
              "<style>\n",
              ".list-inline {list-style: none; margin:0; padding: 0}\n",
              ".list-inline>li {display: inline-block}\n",
              ".list-inline>li:not(:last-child)::after {content: \"\\00b7\"; padding: 0 .5ex}\n",
              "</style>\n",
              "<ol class=list-inline><li>'X'</li><li>'Y'</li><li>'month'</li><li>'day'</li><li>'FFMC'</li><li>'DMC'</li><li>'DC'</li><li>'ISI'</li><li>'temp'</li><li>'RH'</li><li>'wind'</li><li>'rain'</li><li>'area'</li></ol>\n"
            ]
          },
          "metadata": {}
        }
      ]
    },
    {
      "cell_type": "code",
      "source": [
        "# Checking if any data is missing\n",
        "sum(is.na(df))"
      ],
      "metadata": {
        "colab": {
          "base_uri": "https://localhost:8080/",
          "height": 33
        },
        "id": "duAeVLmLzLEf",
        "outputId": "2371770a-63db-4676-b6b9-a657efee0200"
      },
      "execution_count": 6,
      "outputs": [
        {
          "output_type": "display_data",
          "data": {
            "text/plain": [
              "[1] 0"
            ],
            "text/latex": "0",
            "text/markdown": "0",
            "text/html": [
              "0"
            ]
          },
          "metadata": {}
        }
      ]
    },
    {
      "cell_type": "code",
      "source": [
        "# Checking existance of Outliers\n",
        "\n",
        "ggplot(df, aes(x = area)) +\n",
        "  geom_histogram( bins = 50, binwidth=60, color = 'green',fill = 'blue')"
      ],
      "metadata": {
        "colab": {
          "base_uri": "https://localhost:8080/",
          "height": 437
        },
        "id": "RHWbM1RA1Kbe",
        "outputId": "fd032701-c329-436c-de00-051ab960b1ed"
      },
      "execution_count": 7,
      "outputs": [
        {
          "output_type": "display_data",
          "data": {
            "image/png": "[encoded data removed]",
            "text/plain": [
              "plot without title"
            ]
          },
          "metadata": {
            "image/png": {
              "width": 420,
              "height": 420
            }
          }
        }
      ]
    },
    {
      "cell_type": "code",
      "source": [
        "\n",
        "\n",
        "# Checking existance of Outliers\n",
        "\n",
        "ggplot(df, aes(x = temp)) +\n",
        "  geom_histogram()"
      ],
      "metadata": {
        "colab": {
          "base_uri": "https://localhost:8080/",
          "height": 473
        },
        "id": "NgmgpHsjcrs_",
        "outputId": "5578363d-55cc-4adc-ccf9-34b6358c8019"
      },
      "execution_count": 8,
      "outputs": [
        {
          "output_type": "stream",
          "name": "stderr",
          "text": [
            "`stat_bin()` using `bins = 30`. Pick better value with `binwidth`.\n",
            "\n"
          ]
        },
        {
          "output_type": "display_data",
          "data": {
            "image/png": "[encoded data removed]",
            "text/plain": [
              "plot without title"
            ]
          },
          "metadata": {
            "image/png": {
              "width": 420,
              "height": 420
            }
          }
        }
      ]
    },
    {
      "cell_type": "code",
      "source": [
        "# Checking existance of Outliers\n",
        "\n",
        "ggplot(df, aes(x = wind)) +\n",
        "  geom_histogram()"
      ],
      "metadata": {
        "colab": {
          "base_uri": "https://localhost:8080/",
          "height": 473
        },
        "id": "Uu8brWl8dUxI",
        "outputId": "2f2a9082-5083-4344-c3d8-14119b773666"
      },
      "execution_count": 9,
      "outputs": [
        {
          "output_type": "stream",
          "name": "stderr",
          "text": [
            "`stat_bin()` using `bins = 30`. Pick better value with `binwidth`.\n",
            "\n"
          ]
        },
        {
          "output_type": "display_data",
          "data": {
            "image/png": "[encoded data removed]",
            "text/plain": [
              "plot without title"
            ]
          },
          "metadata": {
            "image/png": {
              "width": 420,
              "height": 420
            }
          }
        }
      ]
    },
    {
      "cell_type": "code",
      "source": [
        "\n",
        "# Converting Month abreviation to capital letters\n",
        "df$month = str_to_title(df$month)\n",
        "df"
      ],
      "metadata": {
        "colab": {
          "base_uri": "https://localhost:8080/",
          "height": 1000
        },
        "id": "NCmM5SCSRdTG",
        "outputId": "181df8fa-2a60-4986-cf35-a989693eac91"
      },
      "execution_count": 10,
      "outputs": [
        {
          "output_type": "display_data",
          "data": {
            "text/plain": [
              "    X Y month day FFMC DMC   DC    ISI  temp RH wind rain area \n",
              "1   7 5 Mar   fri 86.2  26.2  94.3  5.1  8.2 51 6.7  0.0  0    \n",
              "2   7 4 Oct   tue 90.6  35.4 669.1  6.7 18.0 33 0.9  0.0  0    \n",
              "3   7 4 Oct   sat 90.6  43.7 686.9  6.7 14.6 33 1.3  0.0  0    \n",
              "4   8 6 Mar   fri 91.7  33.3  77.5  9.0  8.3 97 4.0  0.2  0    \n",
              "5   8 6 Mar   sun 89.3  51.3 102.2  9.6 11.4 99 1.8  0.0  0    \n",
              "6   8 6 Aug   sun 92.3  85.3 488.0 14.7 22.2 29 5.4  0.0  0    \n",
              "7   8 6 Aug   mon 92.3  88.9 495.6  8.5 24.1 27 3.1  0.0  0    \n",
              "8   8 6 Aug   mon 91.5 145.4 608.2 10.7  8.0 86 2.2  0.0  0    \n",
              "9   8 6 Sep   tue 91.0 129.5 692.6  7.0 13.1 63 5.4  0.0  0    \n",
              "10  7 5 Sep   sat 92.5  88.0 698.6  7.1 22.8 40 4.0  0.0  0    \n",
              "11  7 5 Sep   sat 92.5  88.0 698.6  7.1 17.8 51 7.2  0.0  0    \n",
              "12  7 5 Sep   sat 92.8  73.2 713.0 22.6 19.3 38 4.0  0.0  0    \n",
              "13  6 5 Aug   fri 63.5  70.8 665.3  0.8 17.0 72 6.7  0.0  0    \n",
              "14  6 5 Sep   mon 90.9 126.5 686.5  7.0 21.3 42 2.2  0.0  0    \n",
              "15  6 5 Sep   wed 92.9 133.3 699.6  9.2 26.4 21 4.5  0.0  0    \n",
              "16  6 5 Sep   fri 93.3 141.2 713.9 13.9 22.9 44 5.4  0.0  0    \n",
              "17  5 5 Mar   sat 91.7  35.8  80.8  7.8 15.1 27 5.4  0.0  0    \n",
              "18  8 5 Oct   mon 84.9  32.8 664.2  3.0 16.7 47 4.9  0.0  0    \n",
              "19  6 4 Mar   wed 89.2  27.9  70.8  6.3 15.9 35 4.0  0.0  0    \n",
              "20  6 4 Apr   sat 86.3  27.4  97.1  5.1  9.3 44 4.5  0.0  0    \n",
              "21  6 4 Sep   tue 91.0 129.5 692.6  7.0 18.3 40 2.7  0.0  0    \n",
              "22  5 4 Sep   mon 91.8  78.5 724.3  9.2 19.1 38 2.7  0.0  0    \n",
              "23  7 4 Jun   sun 94.3  96.3 200.0 56.1 21.0 44 4.5  0.0  0    \n",
              "24  7 4 Aug   sat 90.2 110.9 537.4  6.2 19.5 43 5.8  0.0  0    \n",
              "25  7 4 Aug   sat 93.5 139.4 594.2 20.3 23.7 32 5.8  0.0  0    \n",
              "26  7 4 Aug   sun 91.4 142.4 601.4 10.6 16.3 60 5.4  0.0  0    \n",
              "27  7 4 Sep   fri 92.4 117.9 668.0 12.2 19.0 34 5.8  0.0  0    \n",
              "28  7 4 Sep   mon 90.9 126.5 686.5  7.0 19.4 48 1.3  0.0  0    \n",
              "29  6 3 Sep   sat 93.4 145.4 721.4  8.1 30.2 24 2.7  0.0  0    \n",
              "30  6 3 Sep   sun 93.5 149.3 728.6  8.1 22.8 39 3.6  0.0  0    \n",
              "⋮   ⋮ ⋮ ⋮     ⋮   ⋮    ⋮     ⋮     ⋮    ⋮    ⋮  ⋮    ⋮    ⋮    \n",
              "488 5 4 Aug   tue 95.1 141.3 605.8 17.7 26.4 34 3.6  0.0  16.40\n",
              "489 4 4 Aug   tue 95.1 141.3 605.8 17.7 19.4 71 7.6  0.0  46.70\n",
              "490 4 4 Aug   wed 95.1 141.3 605.8 17.7 20.6 58 1.3  0.0   0.00\n",
              "491 4 4 Aug   wed 95.1 141.3 605.8 17.7 28.7 33 4.0  0.0   0.00\n",
              "492 4 4 Aug   thu 95.8 152.0 624.1 13.8 32.4 21 4.5  0.0   0.00\n",
              "493 1 3 Aug   fri 95.9 158.0 633.6 11.3 32.4 27 2.2  0.0   0.00\n",
              "494 1 3 Aug   fri 95.9 158.0 633.6 11.3 27.5 29 4.5  0.0  43.32\n",
              "495 6 6 Aug   sat 96.0 164.0 643.0 14.0 30.8 30 4.9  0.0   8.59\n",
              "496 6 6 Aug   mon 96.2 175.5 661.8 16.8 23.9 42 2.2  0.0   0.00\n",
              "497 4 5 Aug   mon 96.2 175.5 661.8 16.8 32.6 26 3.1  0.0   2.77\n",
              "498 3 4 Aug   tue 96.1 181.1 671.2 14.3 32.3 27 2.2  0.0  14.68\n",
              "499 6 5 Aug   tue 96.1 181.1 671.2 14.3 33.3 26 2.7  0.0  40.54\n",
              "500 7 5 Aug   tue 96.1 181.1 671.2 14.3 27.3 63 4.9  6.4  10.82\n",
              "501 8 6 Aug   tue 96.1 181.1 671.2 14.3 21.6 65 4.9  0.8   0.00\n",
              "502 7 5 Aug   tue 96.1 181.1 671.2 14.3 21.6 65 4.9  0.8   0.00\n",
              "503 4 4 Aug   tue 96.1 181.1 671.2 14.3 20.7 69 4.9  0.4   0.00\n",
              "504 2 4 Aug   wed 94.5 139.4 689.1 20.0 29.2 30 4.9  0.0   1.95\n",
              "505 4 3 Aug   wed 94.5 139.4 689.1 20.0 28.9 29 4.9  0.0  49.59\n",
              "506 1 2 Aug   thu 91.0 163.2 744.4 10.1 26.7 35 1.8  0.0   5.80\n",
              "507 1 2 Aug   fri 91.0 166.9 752.6  7.1 18.5 73 8.5  0.0   0.00\n",
              "508 2 4 Aug   fri 91.0 166.9 752.6  7.1 25.9 41 3.6  0.0   0.00\n",
              "509 1 2 Aug   fri 91.0 166.9 752.6  7.1 25.9 41 3.6  0.0   0.00\n",
              "510 5 4 Aug   fri 91.0 166.9 752.6  7.1 21.1 71 7.6  1.4   2.17\n",
              "511 6 5 Aug   fri 91.0 166.9 752.6  7.1 18.2 62 5.4  0.0   0.43\n",
              "512 8 6 Aug   sun 81.6  56.7 665.6  1.9 27.8 35 2.7  0.0   0.00\n",
              "513 4 3 Aug   sun 81.6  56.7 665.6  1.9 27.8 32 2.7  0.0   6.44\n",
              "514 2 4 Aug   sun 81.6  56.7 665.6  1.9 21.9 71 5.8  0.0  54.29\n",
              "515 7 4 Aug   sun 81.6  56.7 665.6  1.9 21.2 70 6.7  0.0  11.16\n",
              "516 1 4 Aug   sat 94.4 146.0 614.7 11.3 25.6 42 4.0  0.0   0.00\n",
              "517 6 3 Nov   tue 79.5   3.0 106.7  1.1 11.8 31 4.5  0.0   0.00"
            ],
            "text/latex": "A data.frame: 517 × 13\n\\begin{tabular}{lllllllllllll}\n X & Y & month & day & FFMC & DMC & DC & ISI & temp & RH & wind & rain & area\\\\\n <int> & <int> & <chr> & <chr> & <dbl> & <dbl> & <dbl> & <dbl> & <dbl> & <int> & <dbl> & <dbl> & <dbl>\\\\\n\\hline\n\t 7 & 5 & Mar & fri & 86.2 &  26.2 &  94.3 &  5.1 &  8.2 & 51 & 6.7 & 0.0 & 0\\\\\n\t 7 & 4 & Oct & tue & 90.6 &  35.4 & 669.1 &  6.7 & 18.0 & 33 & 0.9 & 0.0 & 0\\\\\n\t 7 & 4 & Oct & sat & 90.6 &  43.7 & 686.9 &  6.7 & 14.6 & 33 & 1.3 & 0.0 & 0\\\\\n\t 8 & 6 & Mar & fri & 91.7 &  33.3 &  77.5 &  9.0 &  8.3 & 97 & 4.0 & 0.2 & 0\\\\\n\t 8 & 6 & Mar & sun & 89.3 &  51.3 & 102.2 &  9.6 & 11.4 & 99 & 1.8 & 0.0 & 0\\\\\n\t 8 & 6 & Aug & sun & 92.3 &  85.3 & 488.0 & 14.7 & 22.2 & 29 & 5.4 & 0.0 & 0\\\\\n\t 8 & 6 & Aug & mon & 92.3 &  88.9 & 495.6 &  8.5 & 24.1 & 27 & 3.1 & 0.0 & 0\\\\\n\t 8 & 6 & Aug & mon & 91.5 & 145.4 & 608.2 & 10.7 &  8.0 & 86 & 2.2 & 0.0 & 0\\\\\n\t 8 & 6 & Sep & tue & 91.0 & 129.5 & 692.6 &  7.0 & 13.1 & 63 & 5.4 & 0.0 & 0\\\\\n\t 7 & 5 & Sep & sat & 92.5 &  88.0 & 698.6 &  7.1 & 22.8 & 40 & 4.0 & 0.0 & 0\\\\\n\t 7 & 5 & Sep & sat & 92.5 &  88.0 & 698.6 &  7.1 & 17.8 & 51 & 7.2 & 0.0 & 0\\\\\n\t 7 & 5 & Sep & sat & 92.8 &  73.2 & 713.0 & 22.6 & 19.3 & 38 & 4.0 & 0.0 & 0\\\\\n\t 6 & 5 & Aug & fri & 63.5 &  70.8 & 665.3 &  0.8 & 17.0 & 72 & 6.7 & 0.0 & 0\\\\\n\t 6 & 5 & Sep & mon & 90.9 & 126.5 & 686.5 &  7.0 & 21.3 & 42 & 2.2 & 0.0 & 0\\\\\n\t 6 & 5 & Sep & wed & 92.9 & 133.3 & 699.6 &  9.2 & 26.4 & 21 & 4.5 & 0.0 & 0\\\\\n\t 6 & 5 & Sep & fri & 93.3 & 141.2 & 713.9 & 13.9 & 22.9 & 44 & 5.4 & 0.0 & 0\\\\\n\t 5 & 5 & Mar & sat & 91.7 &  35.8 &  80.8 &  7.8 & 15.1 & 27 & 5.4 & 0.0 & 0\\\\\n\t 8 & 5 & Oct & mon & 84.9 &  32.8 & 664.2 &  3.0 & 16.7 & 47 & 4.9 & 0.0 & 0\\\\\n\t 6 & 4 & Mar & wed & 89.2 &  27.9 &  70.8 &  6.3 & 15.9 & 35 & 4.0 & 0.0 & 0\\\\\n\t 6 & 4 & Apr & sat & 86.3 &  27.4 &  97.1 &  5.1 &  9.3 & 44 & 4.5 & 0.0 & 0\\\\\n\t 6 & 4 & Sep & tue & 91.0 & 129.5 & 692.6 &  7.0 & 18.3 & 40 & 2.7 & 0.0 & 0\\\\\n\t 5 & 4 & Sep & mon & 91.8 &  78.5 & 724.3 &  9.2 & 19.1 & 38 & 2.7 & 0.0 & 0\\\\\n\t 7 & 4 & Jun & sun & 94.3 &  96.3 & 200.0 & 56.1 & 21.0 & 44 & 4.5 & 0.0 & 0\\\\\n\t 7 & 4 & Aug & sat & 90.2 & 110.9 & 537.4 &  6.2 & 19.5 & 43 & 5.8 & 0.0 & 0\\\\\n\t 7 & 4 & Aug & sat & 93.5 & 139.4 & 594.2 & 20.3 & 23.7 & 32 & 5.8 & 0.0 & 0\\\\\n\t 7 & 4 & Aug & sun & 91.4 & 142.4 & 601.4 & 10.6 & 16.3 & 60 & 5.4 & 0.0 & 0\\\\\n\t 7 & 4 & Sep & fri & 92.4 & 117.9 & 668.0 & 12.2 & 19.0 & 34 & 5.8 & 0.0 & 0\\\\\n\t 7 & 4 & Sep & mon & 90.9 & 126.5 & 686.5 &  7.0 & 19.4 & 48 & 1.3 & 0.0 & 0\\\\\n\t 6 & 3 & Sep & sat & 93.4 & 145.4 & 721.4 &  8.1 & 30.2 & 24 & 2.7 & 0.0 & 0\\\\\n\t 6 & 3 & Sep & sun & 93.5 & 149.3 & 728.6 &  8.1 & 22.8 & 39 & 3.6 & 0.0 & 0\\\\\n\t ⋮ & ⋮ & ⋮ & ⋮ & ⋮ & ⋮ & ⋮ & ⋮ & ⋮ & ⋮ & ⋮ & ⋮ & ⋮\\\\\n\t 5 & 4 & Aug & tue & 95.1 & 141.3 & 605.8 & 17.7 & 26.4 & 34 & 3.6 & 0.0 & 16.40\\\\\n\t 4 & 4 & Aug & tue & 95.1 & 141.3 & 605.8 & 17.7 & 19.4 & 71 & 7.6 & 0.0 & 46.70\\\\\n\t 4 & 4 & Aug & wed & 95.1 & 141.3 & 605.8 & 17.7 & 20.6 & 58 & 1.3 & 0.0 &  0.00\\\\\n\t 4 & 4 & Aug & wed & 95.1 & 141.3 & 605.8 & 17.7 & 28.7 & 33 & 4.0 & 0.0 &  0.00\\\\\n\t 4 & 4 & Aug & thu & 95.8 & 152.0 & 624.1 & 13.8 & 32.4 & 21 & 4.5 & 0.0 &  0.00\\\\\n\t 1 & 3 & Aug & fri & 95.9 & 158.0 & 633.6 & 11.3 & 32.4 & 27 & 2.2 & 0.0 &  0.00\\\\\n\t 1 & 3 & Aug & fri & 95.9 & 158.0 & 633.6 & 11.3 & 27.5 & 29 & 4.5 & 0.0 & 43.32\\\\\n\t 6 & 6 & Aug & sat & 96.0 & 164.0 & 643.0 & 14.0 & 30.8 & 30 & 4.9 & 0.0 &  8.59\\\\\n\t 6 & 6 & Aug & mon & 96.2 & 175.5 & 661.8 & 16.8 & 23.9 & 42 & 2.2 & 0.0 &  0.00\\\\\n\t 4 & 5 & Aug & mon & 96.2 & 175.5 & 661.8 & 16.8 & 32.6 & 26 & 3.1 & 0.0 &  2.77\\\\\n\t 3 & 4 & Aug & tue & 96.1 & 181.1 & 671.2 & 14.3 & 32.3 & 27 & 2.2 & 0.0 & 14.68\\\\\n\t 6 & 5 & Aug & tue & 96.1 & 181.1 & 671.2 & 14.3 & 33.3 & 26 & 2.7 & 0.0 & 40.54\\\\\n\t 7 & 5 & Aug & tue & 96.1 & 181.1 & 671.2 & 14.3 & 27.3 & 63 & 4.9 & 6.4 & 10.82\\\\\n\t 8 & 6 & Aug & tue & 96.1 & 181.1 & 671.2 & 14.3 & 21.6 & 65 & 4.9 & 0.8 &  0.00\\\\\n\t 7 & 5 & Aug & tue & 96.1 & 181.1 & 671.2 & 14.3 & 21.6 & 65 & 4.9 & 0.8 &  0.00\\\\\n\t 4 & 4 & Aug & tue & 96.1 & 181.1 & 671.2 & 14.3 & 20.7 & 69 & 4.9 & 0.4 &  0.00\\\\\n\t 2 & 4 & Aug & wed & 94.5 & 139.4 & 689.1 & 20.0 & 29.2 & 30 & 4.9 & 0.0 &  1.95\\\\\n\t 4 & 3 & Aug & wed & 94.5 & 139.4 & 689.1 & 20.0 & 28.9 & 29 & 4.9 & 0.0 & 49.59\\\\\n\t 1 & 2 & Aug & thu & 91.0 & 163.2 & 744.4 & 10.1 & 26.7 & 35 & 1.8 & 0.0 &  5.80\\\\\n\t 1 & 2 & Aug & fri & 91.0 & 166.9 & 752.6 &  7.1 & 18.5 & 73 & 8.5 & 0.0 &  0.00\\\\\n\t 2 & 4 & Aug & fri & 91.0 & 166.9 & 752.6 &  7.1 & 25.9 & 41 & 3.6 & 0.0 &  0.00\\\\\n\t 1 & 2 & Aug & fri & 91.0 & 166.9 & 752.6 &  7.1 & 25.9 & 41 & 3.6 & 0.0 &  0.00\\\\\n\t 5 & 4 & Aug & fri & 91.0 & 166.9 & 752.6 &  7.1 & 21.1 & 71 & 7.6 & 1.4 &  2.17\\\\\n\t 6 & 5 & Aug & fri & 91.0 & 166.9 & 752.6 &  7.1 & 18.2 & 62 & 5.4 & 0.0 &  0.43\\\\\n\t 8 & 6 & Aug & sun & 81.6 &  56.7 & 665.6 &  1.9 & 27.8 & 35 & 2.7 & 0.0 &  0.00\\\\\n\t 4 & 3 & Aug & sun & 81.6 &  56.7 & 665.6 &  1.9 & 27.8 & 32 & 2.7 & 0.0 &  6.44\\\\\n\t 2 & 4 & Aug & sun & 81.6 &  56.7 & 665.6 &  1.9 & 21.9 & 71 & 5.8 & 0.0 & 54.29\\\\\n\t 7 & 4 & Aug & sun & 81.6 &  56.7 & 665.6 &  1.9 & 21.2 & 70 & 6.7 & 0.0 & 11.16\\\\\n\t 1 & 4 & Aug & sat & 94.4 & 146.0 & 614.7 & 11.3 & 25.6 & 42 & 4.0 & 0.0 &  0.00\\\\\n\t 6 & 3 & Nov & tue & 79.5 &   3.0 & 106.7 &  1.1 & 11.8 & 31 & 4.5 & 0.0 &  0.00\\\\\n\\end{tabular}\n",
            "text/markdown": "\nA data.frame: 517 × 13\n\n| X &lt;int&gt; | Y &lt;int&gt; | month &lt;chr&gt; | day &lt;chr&gt; | FFMC &lt;dbl&gt; | DMC &lt;dbl&gt; | DC &lt;dbl&gt; | ISI &lt;dbl&gt; | temp &lt;dbl&gt; | RH &lt;int&gt; | wind &lt;dbl&gt; | rain &lt;dbl&gt; | area &lt;dbl&gt; |\n|---|---|---|---|---|---|---|---|---|---|---|---|---|\n| 7 | 5 | Mar | fri | 86.2 |  26.2 |  94.3 |  5.1 |  8.2 | 51 | 6.7 | 0.0 | 0 |\n| 7 | 4 | Oct | tue | 90.6 |  35.4 | 669.1 |  6.7 | 18.0 | 33 | 0.9 | 0.0 | 0 |\n| 7 | 4 | Oct | sat | 90.6 |  43.7 | 686.9 |  6.7 | 14.6 | 33 | 1.3 | 0.0 | 0 |\n| 8 | 6 | Mar | fri | 91.7 |  33.3 |  77.5 |  9.0 |  8.3 | 97 | 4.0 | 0.2 | 0 |\n| 8 | 6 | Mar | sun | 89.3 |  51.3 | 102.2 |  9.6 | 11.4 | 99 | 1.8 | 0.0 | 0 |\n| 8 | 6 | Aug | sun | 92.3 |  85.3 | 488.0 | 14.7 | 22.2 | 29 | 5.4 | 0.0 | 0 |\n| 8 | 6 | Aug | mon | 92.3 |  88.9 | 495.6 |  8.5 | 24.1 | 27 | 3.1 | 0.0 | 0 |\n| 8 | 6 | Aug | mon | 91.5 | 145.4 | 608.2 | 10.7 |  8.0 | 86 | 2.2 | 0.0 | 0 |\n| 8 | 6 | Sep | tue | 91.0 | 129.5 | 692.6 |  7.0 | 13.1 | 63 | 5.4 | 0.0 | 0 |\n| 7 | 5 | Sep | sat | 92.5 |  88.0 | 698.6 |  7.1 | 22.8 | 40 | 4.0 | 0.0 | 0 |\n| 7 | 5 | Sep | sat | 92.5 |  88.0 | 698.6 |  7.1 | 17.8 | 51 | 7.2 | 0.0 | 0 |\n| 7 | 5 | Sep | sat | 92.8 |  73.2 | 713.0 | 22.6 | 19.3 | 38 | 4.0 | 0.0 | 0 |\n| 6 | 5 | Aug | fri | 63.5 |  70.8 | 665.3 |  0.8 | 17.0 | 72 | 6.7 | 0.0 | 0 |\n| 6 | 5 | Sep | mon | 90.9 | 126.5 | 686.5 |  7.0 | 21.3 | 42 | 2.2 | 0.0 | 0 |\n| 6 | 5 | Sep | wed | 92.9 | 133.3 | 699.6 |  9.2 | 26.4 | 21 | 4.5 | 0.0 | 0 |\n| 6 | 5 | Sep | fri | 93.3 | 141.2 | 713.9 | 13.9 | 22.9 | 44 | 5.4 | 0.0 | 0 |\n| 5 | 5 | Mar | sat | 91.7 |  35.8 |  80.8 |  7.8 | 15.1 | 27 | 5.4 | 0.0 | 0 |\n| 8 | 5 | Oct | mon | 84.9 |  32.8 | 664.2 |  3.0 | 16.7 | 47 | 4.9 | 0.0 | 0 |\n| 6 | 4 | Mar | wed | 89.2 |  27.9 |  70.8 |  6.3 | 15.9 | 35 | 4.0 | 0.0 | 0 |\n| 6 | 4 | Apr | sat | 86.3 |  27.4 |  97.1 |  5.1 |  9.3 | 44 | 4.5 | 0.0 | 0 |\n| 6 | 4 | Sep | tue | 91.0 | 129.5 | 692.6 |  7.0 | 18.3 | 40 | 2.7 | 0.0 | 0 |\n| 5 | 4 | Sep | mon | 91.8 |  78.5 | 724.3 |  9.2 | 19.1 | 38 | 2.7 | 0.0 | 0 |\n| 7 | 4 | Jun | sun | 94.3 |  96.3 | 200.0 | 56.1 | 21.0 | 44 | 4.5 | 0.0 | 0 |\n| 7 | 4 | Aug | sat | 90.2 | 110.9 | 537.4 |  6.2 | 19.5 | 43 | 5.8 | 0.0 | 0 |\n| 7 | 4 | Aug | sat | 93.5 | 139.4 | 594.2 | 20.3 | 23.7 | 32 | 5.8 | 0.0 | 0 |\n| 7 | 4 | Aug | sun | 91.4 | 142.4 | 601.4 | 10.6 | 16.3 | 60 | 5.4 | 0.0 | 0 |\n| 7 | 4 | Sep | fri | 92.4 | 117.9 | 668.0 | 12.2 | 19.0 | 34 | 5.8 | 0.0 | 0 |\n| 7 | 4 | Sep | mon | 90.9 | 126.5 | 686.5 |  7.0 | 19.4 | 48 | 1.3 | 0.0 | 0 |\n| 6 | 3 | Sep | sat | 93.4 | 145.4 | 721.4 |  8.1 | 30.2 | 24 | 2.7 | 0.0 | 0 |\n| 6 | 3 | Sep | sun | 93.5 | 149.3 | 728.6 |  8.1 | 22.8 | 39 | 3.6 | 0.0 | 0 |\n| ⋮ | ⋮ | ⋮ | ⋮ | ⋮ | ⋮ | ⋮ | ⋮ | ⋮ | ⋮ | ⋮ | ⋮ | ⋮ |\n| 5 | 4 | Aug | tue | 95.1 | 141.3 | 605.8 | 17.7 | 26.4 | 34 | 3.6 | 0.0 | 16.40 |\n| 4 | 4 | Aug | tue | 95.1 | 141.3 | 605.8 | 17.7 | 19.4 | 71 | 7.6 | 0.0 | 46.70 |\n| 4 | 4 | Aug | wed | 95.1 | 141.3 | 605.8 | 17.7 | 20.6 | 58 | 1.3 | 0.0 |  0.00 |\n| 4 | 4 | Aug | wed | 95.1 | 141.3 | 605.8 | 17.7 | 28.7 | 33 | 4.0 | 0.0 |  0.00 |\n| 4 | 4 | Aug | thu | 95.8 | 152.0 | 624.1 | 13.8 | 32.4 | 21 | 4.5 | 0.0 |  0.00 |\n| 1 | 3 | Aug | fri | 95.9 | 158.0 | 633.6 | 11.3 | 32.4 | 27 | 2.2 | 0.0 |  0.00 |\n| 1 | 3 | Aug | fri | 95.9 | 158.0 | 633.6 | 11.3 | 27.5 | 29 | 4.5 | 0.0 | 43.32 |\n| 6 | 6 | Aug | sat | 96.0 | 164.0 | 643.0 | 14.0 | 30.8 | 30 | 4.9 | 0.0 |  8.59 |\n| 6 | 6 | Aug | mon | 96.2 | 175.5 | 661.8 | 16.8 | 23.9 | 42 | 2.2 | 0.0 |  0.00 |\n| 4 | 5 | Aug | mon | 96.2 | 175.5 | 661.8 | 16.8 | 32.6 | 26 | 3.1 | 0.0 |  2.77 |\n| 3 | 4 | Aug | tue | 96.1 | 181.1 | 671.2 | 14.3 | 32.3 | 27 | 2.2 | 0.0 | 14.68 |\n| 6 | 5 | Aug | tue | 96.1 | 181.1 | 671.2 | 14.3 | 33.3 | 26 | 2.7 | 0.0 | 40.54 |\n| 7 | 5 | Aug | tue | 96.1 | 181.1 | 671.2 | 14.3 | 27.3 | 63 | 4.9 | 6.4 | 10.82 |\n| 8 | 6 | Aug | tue | 96.1 | 181.1 | 671.2 | 14.3 | 21.6 | 65 | 4.9 | 0.8 |  0.00 |\n| 7 | 5 | Aug | tue | 96.1 | 181.1 | 671.2 | 14.3 | 21.6 | 65 | 4.9 | 0.8 |  0.00 |\n| 4 | 4 | Aug | tue | 96.1 | 181.1 | 671.2 | 14.3 | 20.7 | 69 | 4.9 | 0.4 |  0.00 |\n| 2 | 4 | Aug | wed | 94.5 | 139.4 | 689.1 | 20.0 | 29.2 | 30 | 4.9 | 0.0 |  1.95 |\n| 4 | 3 | Aug | wed | 94.5 | 139.4 | 689.1 | 20.0 | 28.9 | 29 | 4.9 | 0.0 | 49.59 |\n| 1 | 2 | Aug | thu | 91.0 | 163.2 | 744.4 | 10.1 | 26.7 | 35 | 1.8 | 0.0 |  5.80 |\n| 1 | 2 | Aug | fri | 91.0 | 166.9 | 752.6 |  7.1 | 18.5 | 73 | 8.5 | 0.0 |  0.00 |\n| 2 | 4 | Aug | fri | 91.0 | 166.9 | 752.6 |  7.1 | 25.9 | 41 | 3.6 | 0.0 |  0.00 |\n| 1 | 2 | Aug | fri | 91.0 | 166.9 | 752.6 |  7.1 | 25.9 | 41 | 3.6 | 0.0 |  0.00 |\n| 5 | 4 | Aug | fri | 91.0 | 166.9 | 752.6 |  7.1 | 21.1 | 71 | 7.6 | 1.4 |  2.17 |\n| 6 | 5 | Aug | fri | 91.0 | 166.9 | 752.6 |  7.1 | 18.2 | 62 | 5.4 | 0.0 |  0.43 |\n| 8 | 6 | Aug | sun | 81.6 |  56.7 | 665.6 |  1.9 | 27.8 | 35 | 2.7 | 0.0 |  0.00 |\n| 4 | 3 | Aug | sun | 81.6 |  56.7 | 665.6 |  1.9 | 27.8 | 32 | 2.7 | 0.0 |  6.44 |\n| 2 | 4 | Aug | sun | 81.6 |  56.7 | 665.6 |  1.9 | 21.9 | 71 | 5.8 | 0.0 | 54.29 |\n| 7 | 4 | Aug | sun | 81.6 |  56.7 | 665.6 |  1.9 | 21.2 | 70 | 6.7 | 0.0 | 11.16 |\n| 1 | 4 | Aug | sat | 94.4 | 146.0 | 614.7 | 11.3 | 25.6 | 42 | 4.0 | 0.0 |  0.00 |\n| 6 | 3 | Nov | tue | 79.5 |   3.0 | 106.7 |  1.1 | 11.8 | 31 | 4.5 | 0.0 |  0.00 |\n\n",
            "text/html": [
              "<table class=\"dataframe\">\n",
              "<caption>A data.frame: 517 × 13</caption>\n",
              "<thead>\n",
              "\t<tr><th scope=col>X</th><th scope=col>Y</th><th scope=col>month</th><th scope=col>day</th><th scope=col>FFMC</th><th scope=col>DMC</th><th scope=col>DC</th><th scope=col>ISI</th><th scope=col>temp</th><th scope=col>RH</th><th scope=col>wind</th><th scope=col>rain</th><th scope=col>area</th></tr>\n",
              "\t<tr><th scope=col>&lt;int&gt;</th><th scope=col>&lt;int&gt;</th><th scope=col>&lt;chr&gt;</th><th scope=col>&lt;chr&gt;</th><th scope=col>&lt;dbl&gt;</th><th scope=col>&lt;dbl&gt;</th><th scope=col>&lt;dbl&gt;</th><th scope=col>&lt;dbl&gt;</th><th scope=col>&lt;dbl&gt;</th><th scope=col>&lt;int&gt;</th><th scope=col>&lt;dbl&gt;</th><th scope=col>&lt;dbl&gt;</th><th scope=col>&lt;dbl&gt;</th></tr>\n",
              "</thead>\n",
              "<tbody>\n",
              "\t<tr><td>7</td><td>5</td><td>Mar</td><td>fri</td><td>86.2</td><td> 26.2</td><td> 94.3</td><td> 5.1</td><td> 8.2</td><td>51</td><td>6.7</td><td>0.0</td><td>0</td></tr>\n",
              "\t<tr><td>7</td><td>4</td><td>Oct</td><td>tue</td><td>90.6</td><td> 35.4</td><td>669.1</td><td> 6.7</td><td>18.0</td><td>33</td><td>0.9</td><td>0.0</td><td>0</td></tr>\n",
              "\t<tr><td>7</td><td>4</td><td>Oct</td><td>sat</td><td>90.6</td><td> 43.7</td><td>686.9</td><td> 6.7</td><td>14.6</td><td>33</td><td>1.3</td><td>0.0</td><td>0</td></tr>\n",
              "\t<tr><td>8</td><td>6</td><td>Mar</td><td>fri</td><td>91.7</td><td> 33.3</td><td> 77.5</td><td> 9.0</td><td> 8.3</td><td>97</td><td>4.0</td><td>0.2</td><td>0</td></tr>\n",
              "\t<tr><td>8</td><td>6</td><td>Mar</td><td>sun</td><td>89.3</td><td> 51.3</td><td>102.2</td><td> 9.6</td><td>11.4</td><td>99</td><td>1.8</td><td>0.0</td><td>0</td></tr>\n",
              "\t<tr><td>8</td><td>6</td><td>Aug</td><td>sun</td><td>92.3</td><td> 85.3</td><td>488.0</td><td>14.7</td><td>22.2</td><td>29</td><td>5.4</td><td>0.0</td><td>0</td></tr>\n",
              "\t<tr><td>8</td><td>6</td><td>Aug</td><td>mon</td><td>92.3</td><td> 88.9</td><td>495.6</td><td> 8.5</td><td>24.1</td><td>27</td><td>3.1</td><td>0.0</td><td>0</td></tr>\n",
              "\t<tr><td>8</td><td>6</td><td>Aug</td><td>mon</td><td>91.5</td><td>145.4</td><td>608.2</td><td>10.7</td><td> 8.0</td><td>86</td><td>2.2</td><td>0.0</td><td>0</td></tr>\n",
              "\t<tr><td>8</td><td>6</td><td>Sep</td><td>tue</td><td>91.0</td><td>129.5</td><td>692.6</td><td> 7.0</td><td>13.1</td><td>63</td><td>5.4</td><td>0.0</td><td>0</td></tr>\n",
              "\t<tr><td>7</td><td>5</td><td>Sep</td><td>sat</td><td>92.5</td><td> 88.0</td><td>698.6</td><td> 7.1</td><td>22.8</td><td>40</td><td>4.0</td><td>0.0</td><td>0</td></tr>\n",
              "\t<tr><td>7</td><td>5</td><td>Sep</td><td>sat</td><td>92.5</td><td> 88.0</td><td>698.6</td><td> 7.1</td><td>17.8</td><td>51</td><td>7.2</td><td>0.0</td><td>0</td></tr>\n",
              "\t<tr><td>7</td><td>5</td><td>Sep</td><td>sat</td><td>92.8</td><td> 73.2</td><td>713.0</td><td>22.6</td><td>19.3</td><td>38</td><td>4.0</td><td>0.0</td><td>0</td></tr>\n",
              "\t<tr><td>6</td><td>5</td><td>Aug</td><td>fri</td><td>63.5</td><td> 70.8</td><td>665.3</td><td> 0.8</td><td>17.0</td><td>72</td><td>6.7</td><td>0.0</td><td>0</td></tr>\n",
              "\t<tr><td>6</td><td>5</td><td>Sep</td><td>mon</td><td>90.9</td><td>126.5</td><td>686.5</td><td> 7.0</td><td>21.3</td><td>42</td><td>2.2</td><td>0.0</td><td>0</td></tr>\n",
              "\t<tr><td>6</td><td>5</td><td>Sep</td><td>wed</td><td>92.9</td><td>133.3</td><td>699.6</td><td> 9.2</td><td>26.4</td><td>21</td><td>4.5</td><td>0.0</td><td>0</td></tr>\n",
              "\t<tr><td>6</td><td>5</td><td>Sep</td><td>fri</td><td>93.3</td><td>141.2</td><td>713.9</td><td>13.9</td><td>22.9</td><td>44</td><td>5.4</td><td>0.0</td><td>0</td></tr>\n",
              "\t<tr><td>5</td><td>5</td><td>Mar</td><td>sat</td><td>91.7</td><td> 35.8</td><td> 80.8</td><td> 7.8</td><td>15.1</td><td>27</td><td>5.4</td><td>0.0</td><td>0</td></tr>\n",
              "\t<tr><td>8</td><td>5</td><td>Oct</td><td>mon</td><td>84.9</td><td> 32.8</td><td>664.2</td><td> 3.0</td><td>16.7</td><td>47</td><td>4.9</td><td>0.0</td><td>0</td></tr>\n",
              "\t<tr><td>6</td><td>4</td><td>Mar</td><td>wed</td><td>89.2</td><td> 27.9</td><td> 70.8</td><td> 6.3</td><td>15.9</td><td>35</td><td>4.0</td><td>0.0</td><td>0</td></tr>\n",
              "\t<tr><td>6</td><td>4</td><td>Apr</td><td>sat</td><td>86.3</td><td> 27.4</td><td> 97.1</td><td> 5.1</td><td> 9.3</td><td>44</td><td>4.5</td><td>0.0</td><td>0</td></tr>\n",
              "\t<tr><td>6</td><td>4</td><td>Sep</td><td>tue</td><td>91.0</td><td>129.5</td><td>692.6</td><td> 7.0</td><td>18.3</td><td>40</td><td>2.7</td><td>0.0</td><td>0</td></tr>\n",
              "\t<tr><td>5</td><td>4</td><td>Sep</td><td>mon</td><td>91.8</td><td> 78.5</td><td>724.3</td><td> 9.2</td><td>19.1</td><td>38</td><td>2.7</td><td>0.0</td><td>0</td></tr>\n",
              "\t<tr><td>7</td><td>4</td><td>Jun</td><td>sun</td><td>94.3</td><td> 96.3</td><td>200.0</td><td>56.1</td><td>21.0</td><td>44</td><td>4.5</td><td>0.0</td><td>0</td></tr>\n",
              "\t<tr><td>7</td><td>4</td><td>Aug</td><td>sat</td><td>90.2</td><td>110.9</td><td>537.4</td><td> 6.2</td><td>19.5</td><td>43</td><td>5.8</td><td>0.0</td><td>0</td></tr>\n",
              "\t<tr><td>7</td><td>4</td><td>Aug</td><td>sat</td><td>93.5</td><td>139.4</td><td>594.2</td><td>20.3</td><td>23.7</td><td>32</td><td>5.8</td><td>0.0</td><td>0</td></tr>\n",
              "\t<tr><td>7</td><td>4</td><td>Aug</td><td>sun</td><td>91.4</td><td>142.4</td><td>601.4</td><td>10.6</td><td>16.3</td><td>60</td><td>5.4</td><td>0.0</td><td>0</td></tr>\n",
              "\t<tr><td>7</td><td>4</td><td>Sep</td><td>fri</td><td>92.4</td><td>117.9</td><td>668.0</td><td>12.2</td><td>19.0</td><td>34</td><td>5.8</td><td>0.0</td><td>0</td></tr>\n",
              "\t<tr><td>7</td><td>4</td><td>Sep</td><td>mon</td><td>90.9</td><td>126.5</td><td>686.5</td><td> 7.0</td><td>19.4</td><td>48</td><td>1.3</td><td>0.0</td><td>0</td></tr>\n",
              "\t<tr><td>6</td><td>3</td><td>Sep</td><td>sat</td><td>93.4</td><td>145.4</td><td>721.4</td><td> 8.1</td><td>30.2</td><td>24</td><td>2.7</td><td>0.0</td><td>0</td></tr>\n",
              "\t<tr><td>6</td><td>3</td><td>Sep</td><td>sun</td><td>93.5</td><td>149.3</td><td>728.6</td><td> 8.1</td><td>22.8</td><td>39</td><td>3.6</td><td>0.0</td><td>0</td></tr>\n",
              "\t<tr><td>⋮</td><td>⋮</td><td>⋮</td><td>⋮</td><td>⋮</td><td>⋮</td><td>⋮</td><td>⋮</td><td>⋮</td><td>⋮</td><td>⋮</td><td>⋮</td><td>⋮</td></tr>\n",
              "\t<tr><td>5</td><td>4</td><td>Aug</td><td>tue</td><td>95.1</td><td>141.3</td><td>605.8</td><td>17.7</td><td>26.4</td><td>34</td><td>3.6</td><td>0.0</td><td>16.40</td></tr>\n",
              "\t<tr><td>4</td><td>4</td><td>Aug</td><td>tue</td><td>95.1</td><td>141.3</td><td>605.8</td><td>17.7</td><td>19.4</td><td>71</td><td>7.6</td><td>0.0</td><td>46.70</td></tr>\n",
              "\t<tr><td>4</td><td>4</td><td>Aug</td><td>wed</td><td>95.1</td><td>141.3</td><td>605.8</td><td>17.7</td><td>20.6</td><td>58</td><td>1.3</td><td>0.0</td><td> 0.00</td></tr>\n",
              "\t<tr><td>4</td><td>4</td><td>Aug</td><td>wed</td><td>95.1</td><td>141.3</td><td>605.8</td><td>17.7</td><td>28.7</td><td>33</td><td>4.0</td><td>0.0</td><td> 0.00</td></tr>\n",
              "\t<tr><td>4</td><td>4</td><td>Aug</td><td>thu</td><td>95.8</td><td>152.0</td><td>624.1</td><td>13.8</td><td>32.4</td><td>21</td><td>4.5</td><td>0.0</td><td> 0.00</td></tr>\n",
              "\t<tr><td>1</td><td>3</td><td>Aug</td><td>fri</td><td>95.9</td><td>158.0</td><td>633.6</td><td>11.3</td><td>32.4</td><td>27</td><td>2.2</td><td>0.0</td><td> 0.00</td></tr>\n",
              "\t<tr><td>1</td><td>3</td><td>Aug</td><td>fri</td><td>95.9</td><td>158.0</td><td>633.6</td><td>11.3</td><td>27.5</td><td>29</td><td>4.5</td><td>0.0</td><td>43.32</td></tr>\n",
              "\t<tr><td>6</td><td>6</td><td>Aug</td><td>sat</td><td>96.0</td><td>164.0</td><td>643.0</td><td>14.0</td><td>30.8</td><td>30</td><td>4.9</td><td>0.0</td><td> 8.59</td></tr>\n",
              "\t<tr><td>6</td><td>6</td><td>Aug</td><td>mon</td><td>96.2</td><td>175.5</td><td>661.8</td><td>16.8</td><td>23.9</td><td>42</td><td>2.2</td><td>0.0</td><td> 0.00</td></tr>\n",
              "\t<tr><td>4</td><td>5</td><td>Aug</td><td>mon</td><td>96.2</td><td>175.5</td><td>661.8</td><td>16.8</td><td>32.6</td><td>26</td><td>3.1</td><td>0.0</td><td> 2.77</td></tr>\n",
              "\t<tr><td>3</td><td>4</td><td>Aug</td><td>tue</td><td>96.1</td><td>181.1</td><td>671.2</td><td>14.3</td><td>32.3</td><td>27</td><td>2.2</td><td>0.0</td><td>14.68</td></tr>\n",
              "\t<tr><td>6</td><td>5</td><td>Aug</td><td>tue</td><td>96.1</td><td>181.1</td><td>671.2</td><td>14.3</td><td>33.3</td><td>26</td><td>2.7</td><td>0.0</td><td>40.54</td></tr>\n",
              "\t<tr><td>7</td><td>5</td><td>Aug</td><td>tue</td><td>96.1</td><td>181.1</td><td>671.2</td><td>14.3</td><td>27.3</td><td>63</td><td>4.9</td><td>6.4</td><td>10.82</td></tr>\n",
              "\t<tr><td>8</td><td>6</td><td>Aug</td><td>tue</td><td>96.1</td><td>181.1</td><td>671.2</td><td>14.3</td><td>21.6</td><td>65</td><td>4.9</td><td>0.8</td><td> 0.00</td></tr>\n",
              "\t<tr><td>7</td><td>5</td><td>Aug</td><td>tue</td><td>96.1</td><td>181.1</td><td>671.2</td><td>14.3</td><td>21.6</td><td>65</td><td>4.9</td><td>0.8</td><td> 0.00</td></tr>\n",
              "\t<tr><td>4</td><td>4</td><td>Aug</td><td>tue</td><td>96.1</td><td>181.1</td><td>671.2</td><td>14.3</td><td>20.7</td><td>69</td><td>4.9</td><td>0.4</td><td> 0.00</td></tr>\n",
              "\t<tr><td>2</td><td>4</td><td>Aug</td><td>wed</td><td>94.5</td><td>139.4</td><td>689.1</td><td>20.0</td><td>29.2</td><td>30</td><td>4.9</td><td>0.0</td><td> 1.95</td></tr>\n",
              "\t<tr><td>4</td><td>3</td><td>Aug</td><td>wed</td><td>94.5</td><td>139.4</td><td>689.1</td><td>20.0</td><td>28.9</td><td>29</td><td>4.9</td><td>0.0</td><td>49.59</td></tr>\n",
              "\t<tr><td>1</td><td>2</td><td>Aug</td><td>thu</td><td>91.0</td><td>163.2</td><td>744.4</td><td>10.1</td><td>26.7</td><td>35</td><td>1.8</td><td>0.0</td><td> 5.80</td></tr>\n",
              "\t<tr><td>1</td><td>2</td><td>Aug</td><td>fri</td><td>91.0</td><td>166.9</td><td>752.6</td><td> 7.1</td><td>18.5</td><td>73</td><td>8.5</td><td>0.0</td><td> 0.00</td></tr>\n",
              "\t<tr><td>2</td><td>4</td><td>Aug</td><td>fri</td><td>91.0</td><td>166.9</td><td>752.6</td><td> 7.1</td><td>25.9</td><td>41</td><td>3.6</td><td>0.0</td><td> 0.00</td></tr>\n",
              "\t<tr><td>1</td><td>2</td><td>Aug</td><td>fri</td><td>91.0</td><td>166.9</td><td>752.6</td><td> 7.1</td><td>25.9</td><td>41</td><td>3.6</td><td>0.0</td><td> 0.00</td></tr>\n",
              "\t<tr><td>5</td><td>4</td><td>Aug</td><td>fri</td><td>91.0</td><td>166.9</td><td>752.6</td><td> 7.1</td><td>21.1</td><td>71</td><td>7.6</td><td>1.4</td><td> 2.17</td></tr>\n",
              "\t<tr><td>6</td><td>5</td><td>Aug</td><td>fri</td><td>91.0</td><td>166.9</td><td>752.6</td><td> 7.1</td><td>18.2</td><td>62</td><td>5.4</td><td>0.0</td><td> 0.43</td></tr>\n",
              "\t<tr><td>8</td><td>6</td><td>Aug</td><td>sun</td><td>81.6</td><td> 56.7</td><td>665.6</td><td> 1.9</td><td>27.8</td><td>35</td><td>2.7</td><td>0.0</td><td> 0.00</td></tr>\n",
              "\t<tr><td>4</td><td>3</td><td>Aug</td><td>sun</td><td>81.6</td><td> 56.7</td><td>665.6</td><td> 1.9</td><td>27.8</td><td>32</td><td>2.7</td><td>0.0</td><td> 6.44</td></tr>\n",
              "\t<tr><td>2</td><td>4</td><td>Aug</td><td>sun</td><td>81.6</td><td> 56.7</td><td>665.6</td><td> 1.9</td><td>21.9</td><td>71</td><td>5.8</td><td>0.0</td><td>54.29</td></tr>\n",
              "\t<tr><td>7</td><td>4</td><td>Aug</td><td>sun</td><td>81.6</td><td> 56.7</td><td>665.6</td><td> 1.9</td><td>21.2</td><td>70</td><td>6.7</td><td>0.0</td><td>11.16</td></tr>\n",
              "\t<tr><td>1</td><td>4</td><td>Aug</td><td>sat</td><td>94.4</td><td>146.0</td><td>614.7</td><td>11.3</td><td>25.6</td><td>42</td><td>4.0</td><td>0.0</td><td> 0.00</td></tr>\n",
              "\t<tr><td>6</td><td>3</td><td>Nov</td><td>tue</td><td>79.5</td><td>  3.0</td><td>106.7</td><td> 1.1</td><td>11.8</td><td>31</td><td>4.5</td><td>0.0</td><td> 0.00</td></tr>\n",
              "</tbody>\n",
              "</table>\n"
            ]
          },
          "metadata": {}
        }
      ]
    },
    {
      "cell_type": "code",
      "source": [
        "df_new = df\n",
        "\n",
        "df_new = match(df$month, month.abb)\n"
      ],
      "metadata": {
        "id": "6akz6ggjPqlq"
      },
      "execution_count": 20,
      "outputs": []
    },
    {
      "cell_type": "code",
      "source": [
        "df"
      ],
      "metadata": {
        "colab": {
          "base_uri": "https://localhost:8080/",
          "height": 1000
        },
        "id": "Ssul6ciMfuAs",
        "outputId": "bb19521e-0cdf-485d-dcd1-8d4c804ceac9"
      },
      "execution_count": 21,
      "outputs": [
        {
          "output_type": "display_data",
          "data": {
            "text/plain": [
              "    X Y month day FFMC DMC   DC    ISI  temp RH wind rain area \n",
              "1   7 5  3    fri 86.2  26.2  94.3  5.1  8.2 51 6.7  0.0  0    \n",
              "2   7 4 10    tue 90.6  35.4 669.1  6.7 18.0 33 0.9  0.0  0    \n",
              "3   7 4 10    sat 90.6  43.7 686.9  6.7 14.6 33 1.3  0.0  0    \n",
              "4   8 6  3    fri 91.7  33.3  77.5  9.0  8.3 97 4.0  0.2  0    \n",
              "5   8 6  3    sun 89.3  51.3 102.2  9.6 11.4 99 1.8  0.0  0    \n",
              "6   8 6  8    sun 92.3  85.3 488.0 14.7 22.2 29 5.4  0.0  0    \n",
              "7   8 6  8    mon 92.3  88.9 495.6  8.5 24.1 27 3.1  0.0  0    \n",
              "8   8 6  8    mon 91.5 145.4 608.2 10.7  8.0 86 2.2  0.0  0    \n",
              "9   8 6  9    tue 91.0 129.5 692.6  7.0 13.1 63 5.4  0.0  0    \n",
              "10  7 5  9    sat 92.5  88.0 698.6  7.1 22.8 40 4.0  0.0  0    \n",
              "11  7 5  9    sat 92.5  88.0 698.6  7.1 17.8 51 7.2  0.0  0    \n",
              "12  7 5  9    sat 92.8  73.2 713.0 22.6 19.3 38 4.0  0.0  0    \n",
              "13  6 5  8    fri 63.5  70.8 665.3  0.8 17.0 72 6.7  0.0  0    \n",
              "14  6 5  9    mon 90.9 126.5 686.5  7.0 21.3 42 2.2  0.0  0    \n",
              "15  6 5  9    wed 92.9 133.3 699.6  9.2 26.4 21 4.5  0.0  0    \n",
              "16  6 5  9    fri 93.3 141.2 713.9 13.9 22.9 44 5.4  0.0  0    \n",
              "17  5 5  3    sat 91.7  35.8  80.8  7.8 15.1 27 5.4  0.0  0    \n",
              "18  8 5 10    mon 84.9  32.8 664.2  3.0 16.7 47 4.9  0.0  0    \n",
              "19  6 4  3    wed 89.2  27.9  70.8  6.3 15.9 35 4.0  0.0  0    \n",
              "20  6 4  4    sat 86.3  27.4  97.1  5.1  9.3 44 4.5  0.0  0    \n",
              "21  6 4  9    tue 91.0 129.5 692.6  7.0 18.3 40 2.7  0.0  0    \n",
              "22  5 4  9    mon 91.8  78.5 724.3  9.2 19.1 38 2.7  0.0  0    \n",
              "23  7 4  6    sun 94.3  96.3 200.0 56.1 21.0 44 4.5  0.0  0    \n",
              "24  7 4  8    sat 90.2 110.9 537.4  6.2 19.5 43 5.8  0.0  0    \n",
              "25  7 4  8    sat 93.5 139.4 594.2 20.3 23.7 32 5.8  0.0  0    \n",
              "26  7 4  8    sun 91.4 142.4 601.4 10.6 16.3 60 5.4  0.0  0    \n",
              "27  7 4  9    fri 92.4 117.9 668.0 12.2 19.0 34 5.8  0.0  0    \n",
              "28  7 4  9    mon 90.9 126.5 686.5  7.0 19.4 48 1.3  0.0  0    \n",
              "29  6 3  9    sat 93.4 145.4 721.4  8.1 30.2 24 2.7  0.0  0    \n",
              "30  6 3  9    sun 93.5 149.3 728.6  8.1 22.8 39 3.6  0.0  0    \n",
              "⋮   ⋮ ⋮ ⋮     ⋮   ⋮    ⋮     ⋮     ⋮    ⋮    ⋮  ⋮    ⋮    ⋮    \n",
              "488 5 4  8    tue 95.1 141.3 605.8 17.7 26.4 34 3.6  0.0  16.40\n",
              "489 4 4  8    tue 95.1 141.3 605.8 17.7 19.4 71 7.6  0.0  46.70\n",
              "490 4 4  8    wed 95.1 141.3 605.8 17.7 20.6 58 1.3  0.0   0.00\n",
              "491 4 4  8    wed 95.1 141.3 605.8 17.7 28.7 33 4.0  0.0   0.00\n",
              "492 4 4  8    thu 95.8 152.0 624.1 13.8 32.4 21 4.5  0.0   0.00\n",
              "493 1 3  8    fri 95.9 158.0 633.6 11.3 32.4 27 2.2  0.0   0.00\n",
              "494 1 3  8    fri 95.9 158.0 633.6 11.3 27.5 29 4.5  0.0  43.32\n",
              "495 6 6  8    sat 96.0 164.0 643.0 14.0 30.8 30 4.9  0.0   8.59\n",
              "496 6 6  8    mon 96.2 175.5 661.8 16.8 23.9 42 2.2  0.0   0.00\n",
              "497 4 5  8    mon 96.2 175.5 661.8 16.8 32.6 26 3.1  0.0   2.77\n",
              "498 3 4  8    tue 96.1 181.1 671.2 14.3 32.3 27 2.2  0.0  14.68\n",
              "499 6 5  8    tue 96.1 181.1 671.2 14.3 33.3 26 2.7  0.0  40.54\n",
              "500 7 5  8    tue 96.1 181.1 671.2 14.3 27.3 63 4.9  6.4  10.82\n",
              "501 8 6  8    tue 96.1 181.1 671.2 14.3 21.6 65 4.9  0.8   0.00\n",
              "502 7 5  8    tue 96.1 181.1 671.2 14.3 21.6 65 4.9  0.8   0.00\n",
              "503 4 4  8    tue 96.1 181.1 671.2 14.3 20.7 69 4.9  0.4   0.00\n",
              "504 2 4  8    wed 94.5 139.4 689.1 20.0 29.2 30 4.9  0.0   1.95\n",
              "505 4 3  8    wed 94.5 139.4 689.1 20.0 28.9 29 4.9  0.0  49.59\n",
              "506 1 2  8    thu 91.0 163.2 744.4 10.1 26.7 35 1.8  0.0   5.80\n",
              "507 1 2  8    fri 91.0 166.9 752.6  7.1 18.5 73 8.5  0.0   0.00\n",
              "508 2 4  8    fri 91.0 166.9 752.6  7.1 25.9 41 3.6  0.0   0.00\n",
              "509 1 2  8    fri 91.0 166.9 752.6  7.1 25.9 41 3.6  0.0   0.00\n",
              "510 5 4  8    fri 91.0 166.9 752.6  7.1 21.1 71 7.6  1.4   2.17\n",
              "511 6 5  8    fri 91.0 166.9 752.6  7.1 18.2 62 5.4  0.0   0.43\n",
              "512 8 6  8    sun 81.6  56.7 665.6  1.9 27.8 35 2.7  0.0   0.00\n",
              "513 4 3  8    sun 81.6  56.7 665.6  1.9 27.8 32 2.7  0.0   6.44\n",
              "514 2 4  8    sun 81.6  56.7 665.6  1.9 21.9 71 5.8  0.0  54.29\n",
              "515 7 4  8    sun 81.6  56.7 665.6  1.9 21.2 70 6.7  0.0  11.16\n",
              "516 1 4  8    sat 94.4 146.0 614.7 11.3 25.6 42 4.0  0.0   0.00\n",
              "517 6 3 11    tue 79.5   3.0 106.7  1.1 11.8 31 4.5  0.0   0.00"
            ],
            "text/latex": "A data.frame: 517 × 13\n\\begin{tabular}{lllllllllllll}\n X & Y & month & day & FFMC & DMC & DC & ISI & temp & RH & wind & rain & area\\\\\n <int> & <int> & <int> & <chr> & <dbl> & <dbl> & <dbl> & <dbl> & <dbl> & <int> & <dbl> & <dbl> & <dbl>\\\\\n\\hline\n\t 7 & 5 &  3 & fri & 86.2 &  26.2 &  94.3 &  5.1 &  8.2 & 51 & 6.7 & 0.0 & 0\\\\\n\t 7 & 4 & 10 & tue & 90.6 &  35.4 & 669.1 &  6.7 & 18.0 & 33 & 0.9 & 0.0 & 0\\\\\n\t 7 & 4 & 10 & sat & 90.6 &  43.7 & 686.9 &  6.7 & 14.6 & 33 & 1.3 & 0.0 & 0\\\\\n\t 8 & 6 &  3 & fri & 91.7 &  33.3 &  77.5 &  9.0 &  8.3 & 97 & 4.0 & 0.2 & 0\\\\\n\t 8 & 6 &  3 & sun & 89.3 &  51.3 & 102.2 &  9.6 & 11.4 & 99 & 1.8 & 0.0 & 0\\\\\n\t 8 & 6 &  8 & sun & 92.3 &  85.3 & 488.0 & 14.7 & 22.2 & 29 & 5.4 & 0.0 & 0\\\\\n\t 8 & 6 &  8 & mon & 92.3 &  88.9 & 495.6 &  8.5 & 24.1 & 27 & 3.1 & 0.0 & 0\\\\\n\t 8 & 6 &  8 & mon & 91.5 & 145.4 & 608.2 & 10.7 &  8.0 & 86 & 2.2 & 0.0 & 0\\\\\n\t 8 & 6 &  9 & tue & 91.0 & 129.5 & 692.6 &  7.0 & 13.1 & 63 & 5.4 & 0.0 & 0\\\\\n\t 7 & 5 &  9 & sat & 92.5 &  88.0 & 698.6 &  7.1 & 22.8 & 40 & 4.0 & 0.0 & 0\\\\\n\t 7 & 5 &  9 & sat & 92.5 &  88.0 & 698.6 &  7.1 & 17.8 & 51 & 7.2 & 0.0 & 0\\\\\n\t 7 & 5 &  9 & sat & 92.8 &  73.2 & 713.0 & 22.6 & 19.3 & 38 & 4.0 & 0.0 & 0\\\\\n\t 6 & 5 &  8 & fri & 63.5 &  70.8 & 665.3 &  0.8 & 17.0 & 72 & 6.7 & 0.0 & 0\\\\\n\t 6 & 5 &  9 & mon & 90.9 & 126.5 & 686.5 &  7.0 & 21.3 & 42 & 2.2 & 0.0 & 0\\\\\n\t 6 & 5 &  9 & wed & 92.9 & 133.3 & 699.6 &  9.2 & 26.4 & 21 & 4.5 & 0.0 & 0\\\\\n\t 6 & 5 &  9 & fri & 93.3 & 141.2 & 713.9 & 13.9 & 22.9 & 44 & 5.4 & 0.0 & 0\\\\\n\t 5 & 5 &  3 & sat & 91.7 &  35.8 &  80.8 &  7.8 & 15.1 & 27 & 5.4 & 0.0 & 0\\\\\n\t 8 & 5 & 10 & mon & 84.9 &  32.8 & 664.2 &  3.0 & 16.7 & 47 & 4.9 & 0.0 & 0\\\\\n\t 6 & 4 &  3 & wed & 89.2 &  27.9 &  70.8 &  6.3 & 15.9 & 35 & 4.0 & 0.0 & 0\\\\\n\t 6 & 4 &  4 & sat & 86.3 &  27.4 &  97.1 &  5.1 &  9.3 & 44 & 4.5 & 0.0 & 0\\\\\n\t 6 & 4 &  9 & tue & 91.0 & 129.5 & 692.6 &  7.0 & 18.3 & 40 & 2.7 & 0.0 & 0\\\\\n\t 5 & 4 &  9 & mon & 91.8 &  78.5 & 724.3 &  9.2 & 19.1 & 38 & 2.7 & 0.0 & 0\\\\\n\t 7 & 4 &  6 & sun & 94.3 &  96.3 & 200.0 & 56.1 & 21.0 & 44 & 4.5 & 0.0 & 0\\\\\n\t 7 & 4 &  8 & sat & 90.2 & 110.9 & 537.4 &  6.2 & 19.5 & 43 & 5.8 & 0.0 & 0\\\\\n\t 7 & 4 &  8 & sat & 93.5 & 139.4 & 594.2 & 20.3 & 23.7 & 32 & 5.8 & 0.0 & 0\\\\\n\t 7 & 4 &  8 & sun & 91.4 & 142.4 & 601.4 & 10.6 & 16.3 & 60 & 5.4 & 0.0 & 0\\\\\n\t 7 & 4 &  9 & fri & 92.4 & 117.9 & 668.0 & 12.2 & 19.0 & 34 & 5.8 & 0.0 & 0\\\\\n\t 7 & 4 &  9 & mon & 90.9 & 126.5 & 686.5 &  7.0 & 19.4 & 48 & 1.3 & 0.0 & 0\\\\\n\t 6 & 3 &  9 & sat & 93.4 & 145.4 & 721.4 &  8.1 & 30.2 & 24 & 2.7 & 0.0 & 0\\\\\n\t 6 & 3 &  9 & sun & 93.5 & 149.3 & 728.6 &  8.1 & 22.8 & 39 & 3.6 & 0.0 & 0\\\\\n\t ⋮ & ⋮ & ⋮ & ⋮ & ⋮ & ⋮ & ⋮ & ⋮ & ⋮ & ⋮ & ⋮ & ⋮ & ⋮\\\\\n\t 5 & 4 &  8 & tue & 95.1 & 141.3 & 605.8 & 17.7 & 26.4 & 34 & 3.6 & 0.0 & 16.40\\\\\n\t 4 & 4 &  8 & tue & 95.1 & 141.3 & 605.8 & 17.7 & 19.4 & 71 & 7.6 & 0.0 & 46.70\\\\\n\t 4 & 4 &  8 & wed & 95.1 & 141.3 & 605.8 & 17.7 & 20.6 & 58 & 1.3 & 0.0 &  0.00\\\\\n\t 4 & 4 &  8 & wed & 95.1 & 141.3 & 605.8 & 17.7 & 28.7 & 33 & 4.0 & 0.0 &  0.00\\\\\n\t 4 & 4 &  8 & thu & 95.8 & 152.0 & 624.1 & 13.8 & 32.4 & 21 & 4.5 & 0.0 &  0.00\\\\\n\t 1 & 3 &  8 & fri & 95.9 & 158.0 & 633.6 & 11.3 & 32.4 & 27 & 2.2 & 0.0 &  0.00\\\\\n\t 1 & 3 &  8 & fri & 95.9 & 158.0 & 633.6 & 11.3 & 27.5 & 29 & 4.5 & 0.0 & 43.32\\\\\n\t 6 & 6 &  8 & sat & 96.0 & 164.0 & 643.0 & 14.0 & 30.8 & 30 & 4.9 & 0.0 &  8.59\\\\\n\t 6 & 6 &  8 & mon & 96.2 & 175.5 & 661.8 & 16.8 & 23.9 & 42 & 2.2 & 0.0 &  0.00\\\\\n\t 4 & 5 &  8 & mon & 96.2 & 175.5 & 661.8 & 16.8 & 32.6 & 26 & 3.1 & 0.0 &  2.77\\\\\n\t 3 & 4 &  8 & tue & 96.1 & 181.1 & 671.2 & 14.3 & 32.3 & 27 & 2.2 & 0.0 & 14.68\\\\\n\t 6 & 5 &  8 & tue & 96.1 & 181.1 & 671.2 & 14.3 & 33.3 & 26 & 2.7 & 0.0 & 40.54\\\\\n\t 7 & 5 &  8 & tue & 96.1 & 181.1 & 671.2 & 14.3 & 27.3 & 63 & 4.9 & 6.4 & 10.82\\\\\n\t 8 & 6 &  8 & tue & 96.1 & 181.1 & 671.2 & 14.3 & 21.6 & 65 & 4.9 & 0.8 &  0.00\\\\\n\t 7 & 5 &  8 & tue & 96.1 & 181.1 & 671.2 & 14.3 & 21.6 & 65 & 4.9 & 0.8 &  0.00\\\\\n\t 4 & 4 &  8 & tue & 96.1 & 181.1 & 671.2 & 14.3 & 20.7 & 69 & 4.9 & 0.4 &  0.00\\\\\n\t 2 & 4 &  8 & wed & 94.5 & 139.4 & 689.1 & 20.0 & 29.2 & 30 & 4.9 & 0.0 &  1.95\\\\\n\t 4 & 3 &  8 & wed & 94.5 & 139.4 & 689.1 & 20.0 & 28.9 & 29 & 4.9 & 0.0 & 49.59\\\\\n\t 1 & 2 &  8 & thu & 91.0 & 163.2 & 744.4 & 10.1 & 26.7 & 35 & 1.8 & 0.0 &  5.80\\\\\n\t 1 & 2 &  8 & fri & 91.0 & 166.9 & 752.6 &  7.1 & 18.5 & 73 & 8.5 & 0.0 &  0.00\\\\\n\t 2 & 4 &  8 & fri & 91.0 & 166.9 & 752.6 &  7.1 & 25.9 & 41 & 3.6 & 0.0 &  0.00\\\\\n\t 1 & 2 &  8 & fri & 91.0 & 166.9 & 752.6 &  7.1 & 25.9 & 41 & 3.6 & 0.0 &  0.00\\\\\n\t 5 & 4 &  8 & fri & 91.0 & 166.9 & 752.6 &  7.1 & 21.1 & 71 & 7.6 & 1.4 &  2.17\\\\\n\t 6 & 5 &  8 & fri & 91.0 & 166.9 & 752.6 &  7.1 & 18.2 & 62 & 5.4 & 0.0 &  0.43\\\\\n\t 8 & 6 &  8 & sun & 81.6 &  56.7 & 665.6 &  1.9 & 27.8 & 35 & 2.7 & 0.0 &  0.00\\\\\n\t 4 & 3 &  8 & sun & 81.6 &  56.7 & 665.6 &  1.9 & 27.8 & 32 & 2.7 & 0.0 &  6.44\\\\\n\t 2 & 4 &  8 & sun & 81.6 &  56.7 & 665.6 &  1.9 & 21.9 & 71 & 5.8 & 0.0 & 54.29\\\\\n\t 7 & 4 &  8 & sun & 81.6 &  56.7 & 665.6 &  1.9 & 21.2 & 70 & 6.7 & 0.0 & 11.16\\\\\n\t 1 & 4 &  8 & sat & 94.4 & 146.0 & 614.7 & 11.3 & 25.6 & 42 & 4.0 & 0.0 &  0.00\\\\\n\t 6 & 3 & 11 & tue & 79.5 &   3.0 & 106.7 &  1.1 & 11.8 & 31 & 4.5 & 0.0 &  0.00\\\\\n\\end{tabular}\n",
            "text/markdown": "\nA data.frame: 517 × 13\n\n| X &lt;int&gt; | Y &lt;int&gt; | month &lt;int&gt; | day &lt;chr&gt; | FFMC &lt;dbl&gt; | DMC &lt;dbl&gt; | DC &lt;dbl&gt; | ISI &lt;dbl&gt; | temp &lt;dbl&gt; | RH &lt;int&gt; | wind &lt;dbl&gt; | rain &lt;dbl&gt; | area &lt;dbl&gt; |\n|---|---|---|---|---|---|---|---|---|---|---|---|---|\n| 7 | 5 |  3 | fri | 86.2 |  26.2 |  94.3 |  5.1 |  8.2 | 51 | 6.7 | 0.0 | 0 |\n| 7 | 4 | 10 | tue | 90.6 |  35.4 | 669.1 |  6.7 | 18.0 | 33 | 0.9 | 0.0 | 0 |\n| 7 | 4 | 10 | sat | 90.6 |  43.7 | 686.9 |  6.7 | 14.6 | 33 | 1.3 | 0.0 | 0 |\n| 8 | 6 |  3 | fri | 91.7 |  33.3 |  77.5 |  9.0 |  8.3 | 97 | 4.0 | 0.2 | 0 |\n| 8 | 6 |  3 | sun | 89.3 |  51.3 | 102.2 |  9.6 | 11.4 | 99 | 1.8 | 0.0 | 0 |\n| 8 | 6 |  8 | sun | 92.3 |  85.3 | 488.0 | 14.7 | 22.2 | 29 | 5.4 | 0.0 | 0 |\n| 8 | 6 |  8 | mon | 92.3 |  88.9 | 495.6 |  8.5 | 24.1 | 27 | 3.1 | 0.0 | 0 |\n| 8 | 6 |  8 | mon | 91.5 | 145.4 | 608.2 | 10.7 |  8.0 | 86 | 2.2 | 0.0 | 0 |\n| 8 | 6 |  9 | tue | 91.0 | 129.5 | 692.6 |  7.0 | 13.1 | 63 | 5.4 | 0.0 | 0 |\n| 7 | 5 |  9 | sat | 92.5 |  88.0 | 698.6 |  7.1 | 22.8 | 40 | 4.0 | 0.0 | 0 |\n| 7 | 5 |  9 | sat | 92.5 |  88.0 | 698.6 |  7.1 | 17.8 | 51 | 7.2 | 0.0 | 0 |\n| 7 | 5 |  9 | sat | 92.8 |  73.2 | 713.0 | 22.6 | 19.3 | 38 | 4.0 | 0.0 | 0 |\n| 6 | 5 |  8 | fri | 63.5 |  70.8 | 665.3 |  0.8 | 17.0 | 72 | 6.7 | 0.0 | 0 |\n| 6 | 5 |  9 | mon | 90.9 | 126.5 | 686.5 |  7.0 | 21.3 | 42 | 2.2 | 0.0 | 0 |\n| 6 | 5 |  9 | wed | 92.9 | 133.3 | 699.6 |  9.2 | 26.4 | 21 | 4.5 | 0.0 | 0 |\n| 6 | 5 |  9 | fri | 93.3 | 141.2 | 713.9 | 13.9 | 22.9 | 44 | 5.4 | 0.0 | 0 |\n| 5 | 5 |  3 | sat | 91.7 |  35.8 |  80.8 |  7.8 | 15.1 | 27 | 5.4 | 0.0 | 0 |\n| 8 | 5 | 10 | mon | 84.9 |  32.8 | 664.2 |  3.0 | 16.7 | 47 | 4.9 | 0.0 | 0 |\n| 6 | 4 |  3 | wed | 89.2 |  27.9 |  70.8 |  6.3 | 15.9 | 35 | 4.0 | 0.0 | 0 |\n| 6 | 4 |  4 | sat | 86.3 |  27.4 |  97.1 |  5.1 |  9.3 | 44 | 4.5 | 0.0 | 0 |\n| 6 | 4 |  9 | tue | 91.0 | 129.5 | 692.6 |  7.0 | 18.3 | 40 | 2.7 | 0.0 | 0 |\n| 5 | 4 |  9 | mon | 91.8 |  78.5 | 724.3 |  9.2 | 19.1 | 38 | 2.7 | 0.0 | 0 |\n| 7 | 4 |  6 | sun | 94.3 |  96.3 | 200.0 | 56.1 | 21.0 | 44 | 4.5 | 0.0 | 0 |\n| 7 | 4 |  8 | sat | 90.2 | 110.9 | 537.4 |  6.2 | 19.5 | 43 | 5.8 | 0.0 | 0 |\n| 7 | 4 |  8 | sat | 93.5 | 139.4 | 594.2 | 20.3 | 23.7 | 32 | 5.8 | 0.0 | 0 |\n| 7 | 4 |  8 | sun | 91.4 | 142.4 | 601.4 | 10.6 | 16.3 | 60 | 5.4 | 0.0 | 0 |\n| 7 | 4 |  9 | fri | 92.4 | 117.9 | 668.0 | 12.2 | 19.0 | 34 | 5.8 | 0.0 | 0 |\n| 7 | 4 |  9 | mon | 90.9 | 126.5 | 686.5 |  7.0 | 19.4 | 48 | 1.3 | 0.0 | 0 |\n| 6 | 3 |  9 | sat | 93.4 | 145.4 | 721.4 |  8.1 | 30.2 | 24 | 2.7 | 0.0 | 0 |\n| 6 | 3 |  9 | sun | 93.5 | 149.3 | 728.6 |  8.1 | 22.8 | 39 | 3.6 | 0.0 | 0 |\n| ⋮ | ⋮ | ⋮ | ⋮ | ⋮ | ⋮ | ⋮ | ⋮ | ⋮ | ⋮ | ⋮ | ⋮ | ⋮ |\n| 5 | 4 |  8 | tue | 95.1 | 141.3 | 605.8 | 17.7 | 26.4 | 34 | 3.6 | 0.0 | 16.40 |\n| 4 | 4 |  8 | tue | 95.1 | 141.3 | 605.8 | 17.7 | 19.4 | 71 | 7.6 | 0.0 | 46.70 |\n| 4 | 4 |  8 | wed | 95.1 | 141.3 | 605.8 | 17.7 | 20.6 | 58 | 1.3 | 0.0 |  0.00 |\n| 4 | 4 |  8 | wed | 95.1 | 141.3 | 605.8 | 17.7 | 28.7 | 33 | 4.0 | 0.0 |  0.00 |\n| 4 | 4 |  8 | thu | 95.8 | 152.0 | 624.1 | 13.8 | 32.4 | 21 | 4.5 | 0.0 |  0.00 |\n| 1 | 3 |  8 | fri | 95.9 | 158.0 | 633.6 | 11.3 | 32.4 | 27 | 2.2 | 0.0 |  0.00 |\n| 1 | 3 |  8 | fri | 95.9 | 158.0 | 633.6 | 11.3 | 27.5 | 29 | 4.5 | 0.0 | 43.32 |\n| 6 | 6 |  8 | sat | 96.0 | 164.0 | 643.0 | 14.0 | 30.8 | 30 | 4.9 | 0.0 |  8.59 |\n| 6 | 6 |  8 | mon | 96.2 | 175.5 | 661.8 | 16.8 | 23.9 | 42 | 2.2 | 0.0 |  0.00 |\n| 4 | 5 |  8 | mon | 96.2 | 175.5 | 661.8 | 16.8 | 32.6 | 26 | 3.1 | 0.0 |  2.77 |\n| 3 | 4 |  8 | tue | 96.1 | 181.1 | 671.2 | 14.3 | 32.3 | 27 | 2.2 | 0.0 | 14.68 |\n| 6 | 5 |  8 | tue | 96.1 | 181.1 | 671.2 | 14.3 | 33.3 | 26 | 2.7 | 0.0 | 40.54 |\n| 7 | 5 |  8 | tue | 96.1 | 181.1 | 671.2 | 14.3 | 27.3 | 63 | 4.9 | 6.4 | 10.82 |\n| 8 | 6 |  8 | tue | 96.1 | 181.1 | 671.2 | 14.3 | 21.6 | 65 | 4.9 | 0.8 |  0.00 |\n| 7 | 5 |  8 | tue | 96.1 | 181.1 | 671.2 | 14.3 | 21.6 | 65 | 4.9 | 0.8 |  0.00 |\n| 4 | 4 |  8 | tue | 96.1 | 181.1 | 671.2 | 14.3 | 20.7 | 69 | 4.9 | 0.4 |  0.00 |\n| 2 | 4 |  8 | wed | 94.5 | 139.4 | 689.1 | 20.0 | 29.2 | 30 | 4.9 | 0.0 |  1.95 |\n| 4 | 3 |  8 | wed | 94.5 | 139.4 | 689.1 | 20.0 | 28.9 | 29 | 4.9 | 0.0 | 49.59 |\n| 1 | 2 |  8 | thu | 91.0 | 163.2 | 744.4 | 10.1 | 26.7 | 35 | 1.8 | 0.0 |  5.80 |\n| 1 | 2 |  8 | fri | 91.0 | 166.9 | 752.6 |  7.1 | 18.5 | 73 | 8.5 | 0.0 |  0.00 |\n| 2 | 4 |  8 | fri | 91.0 | 166.9 | 752.6 |  7.1 | 25.9 | 41 | 3.6 | 0.0 |  0.00 |\n| 1 | 2 |  8 | fri | 91.0 | 166.9 | 752.6 |  7.1 | 25.9 | 41 | 3.6 | 0.0 |  0.00 |\n| 5 | 4 |  8 | fri | 91.0 | 166.9 | 752.6 |  7.1 | 21.1 | 71 | 7.6 | 1.4 |  2.17 |\n| 6 | 5 |  8 | fri | 91.0 | 166.9 | 752.6 |  7.1 | 18.2 | 62 | 5.4 | 0.0 |  0.43 |\n| 8 | 6 |  8 | sun | 81.6 |  56.7 | 665.6 |  1.9 | 27.8 | 35 | 2.7 | 0.0 |  0.00 |\n| 4 | 3 |  8 | sun | 81.6 |  56.7 | 665.6 |  1.9 | 27.8 | 32 | 2.7 | 0.0 |  6.44 |\n| 2 | 4 |  8 | sun | 81.6 |  56.7 | 665.6 |  1.9 | 21.9 | 71 | 5.8 | 0.0 | 54.29 |\n| 7 | 4 |  8 | sun | 81.6 |  56.7 | 665.6 |  1.9 | 21.2 | 70 | 6.7 | 0.0 | 11.16 |\n| 1 | 4 |  8 | sat | 94.4 | 146.0 | 614.7 | 11.3 | 25.6 | 42 | 4.0 | 0.0 |  0.00 |\n| 6 | 3 | 11 | tue | 79.5 |   3.0 | 106.7 |  1.1 | 11.8 | 31 | 4.5 | 0.0 |  0.00 |\n\n",
            "text/html": [
              "<table class=\"dataframe\">\n",
              "<caption>A data.frame: 517 × 13</caption>\n",
              "<thead>\n",
              "\t<tr><th scope=col>X</th><th scope=col>Y</th><th scope=col>month</th><th scope=col>day</th><th scope=col>FFMC</th><th scope=col>DMC</th><th scope=col>DC</th><th scope=col>ISI</th><th scope=col>temp</th><th scope=col>RH</th><th scope=col>wind</th><th scope=col>rain</th><th scope=col>area</th></tr>\n",
              "\t<tr><th scope=col>&lt;int&gt;</th><th scope=col>&lt;int&gt;</th><th scope=col>&lt;int&gt;</th><th scope=col>&lt;chr&gt;</th><th scope=col>&lt;dbl&gt;</th><th scope=col>&lt;dbl&gt;</th><th scope=col>&lt;dbl&gt;</th><th scope=col>&lt;dbl&gt;</th><th scope=col>&lt;dbl&gt;</th><th scope=col>&lt;int&gt;</th><th scope=col>&lt;dbl&gt;</th><th scope=col>&lt;dbl&gt;</th><th scope=col>&lt;dbl&gt;</th></tr>\n",
              "</thead>\n",
              "<tbody>\n",
              "\t<tr><td>7</td><td>5</td><td> 3</td><td>fri</td><td>86.2</td><td> 26.2</td><td> 94.3</td><td> 5.1</td><td> 8.2</td><td>51</td><td>6.7</td><td>0.0</td><td>0</td></tr>\n",
              "\t<tr><td>7</td><td>4</td><td>10</td><td>tue</td><td>90.6</td><td> 35.4</td><td>669.1</td><td> 6.7</td><td>18.0</td><td>33</td><td>0.9</td><td>0.0</td><td>0</td></tr>\n",
              "\t<tr><td>7</td><td>4</td><td>10</td><td>sat</td><td>90.6</td><td> 43.7</td><td>686.9</td><td> 6.7</td><td>14.6</td><td>33</td><td>1.3</td><td>0.0</td><td>0</td></tr>\n",
              "\t<tr><td>8</td><td>6</td><td> 3</td><td>fri</td><td>91.7</td><td> 33.3</td><td> 77.5</td><td> 9.0</td><td> 8.3</td><td>97</td><td>4.0</td><td>0.2</td><td>0</td></tr>\n",
              "\t<tr><td>8</td><td>6</td><td> 3</td><td>sun</td><td>89.3</td><td> 51.3</td><td>102.2</td><td> 9.6</td><td>11.4</td><td>99</td><td>1.8</td><td>0.0</td><td>0</td></tr>\n",
              "\t<tr><td>8</td><td>6</td><td> 8</td><td>sun</td><td>92.3</td><td> 85.3</td><td>488.0</td><td>14.7</td><td>22.2</td><td>29</td><td>5.4</td><td>0.0</td><td>0</td></tr>\n",
              "\t<tr><td>8</td><td>6</td><td> 8</td><td>mon</td><td>92.3</td><td> 88.9</td><td>495.6</td><td> 8.5</td><td>24.1</td><td>27</td><td>3.1</td><td>0.0</td><td>0</td></tr>\n",
              "\t<tr><td>8</td><td>6</td><td> 8</td><td>mon</td><td>91.5</td><td>145.4</td><td>608.2</td><td>10.7</td><td> 8.0</td><td>86</td><td>2.2</td><td>0.0</td><td>0</td></tr>\n",
              "\t<tr><td>8</td><td>6</td><td> 9</td><td>tue</td><td>91.0</td><td>129.5</td><td>692.6</td><td> 7.0</td><td>13.1</td><td>63</td><td>5.4</td><td>0.0</td><td>0</td></tr>\n",
              "\t<tr><td>7</td><td>5</td><td> 9</td><td>sat</td><td>92.5</td><td> 88.0</td><td>698.6</td><td> 7.1</td><td>22.8</td><td>40</td><td>4.0</td><td>0.0</td><td>0</td></tr>\n",
              "\t<tr><td>7</td><td>5</td><td> 9</td><td>sat</td><td>92.5</td><td> 88.0</td><td>698.6</td><td> 7.1</td><td>17.8</td><td>51</td><td>7.2</td><td>0.0</td><td>0</td></tr>\n",
              "\t<tr><td>7</td><td>5</td><td> 9</td><td>sat</td><td>92.8</td><td> 73.2</td><td>713.0</td><td>22.6</td><td>19.3</td><td>38</td><td>4.0</td><td>0.0</td><td>0</td></tr>\n",
              "\t<tr><td>6</td><td>5</td><td> 8</td><td>fri</td><td>63.5</td><td> 70.8</td><td>665.3</td><td> 0.8</td><td>17.0</td><td>72</td><td>6.7</td><td>0.0</td><td>0</td></tr>\n",
              "\t<tr><td>6</td><td>5</td><td> 9</td><td>mon</td><td>90.9</td><td>126.5</td><td>686.5</td><td> 7.0</td><td>21.3</td><td>42</td><td>2.2</td><td>0.0</td><td>0</td></tr>\n",
              "\t<tr><td>6</td><td>5</td><td> 9</td><td>wed</td><td>92.9</td><td>133.3</td><td>699.6</td><td> 9.2</td><td>26.4</td><td>21</td><td>4.5</td><td>0.0</td><td>0</td></tr>\n",
              "\t<tr><td>6</td><td>5</td><td> 9</td><td>fri</td><td>93.3</td><td>141.2</td><td>713.9</td><td>13.9</td><td>22.9</td><td>44</td><td>5.4</td><td>0.0</td><td>0</td></tr>\n",
              "\t<tr><td>5</td><td>5</td><td> 3</td><td>sat</td><td>91.7</td><td> 35.8</td><td> 80.8</td><td> 7.8</td><td>15.1</td><td>27</td><td>5.4</td><td>0.0</td><td>0</td></tr>\n",
              "\t<tr><td>8</td><td>5</td><td>10</td><td>mon</td><td>84.9</td><td> 32.8</td><td>664.2</td><td> 3.0</td><td>16.7</td><td>47</td><td>4.9</td><td>0.0</td><td>0</td></tr>\n",
              "\t<tr><td>6</td><td>4</td><td> 3</td><td>wed</td><td>89.2</td><td> 27.9</td><td> 70.8</td><td> 6.3</td><td>15.9</td><td>35</td><td>4.0</td><td>0.0</td><td>0</td></tr>\n",
              "\t<tr><td>6</td><td>4</td><td> 4</td><td>sat</td><td>86.3</td><td> 27.4</td><td> 97.1</td><td> 5.1</td><td> 9.3</td><td>44</td><td>4.5</td><td>0.0</td><td>0</td></tr>\n",
              "\t<tr><td>6</td><td>4</td><td> 9</td><td>tue</td><td>91.0</td><td>129.5</td><td>692.6</td><td> 7.0</td><td>18.3</td><td>40</td><td>2.7</td><td>0.0</td><td>0</td></tr>\n",
              "\t<tr><td>5</td><td>4</td><td> 9</td><td>mon</td><td>91.8</td><td> 78.5</td><td>724.3</td><td> 9.2</td><td>19.1</td><td>38</td><td>2.7</td><td>0.0</td><td>0</td></tr>\n",
              "\t<tr><td>7</td><td>4</td><td> 6</td><td>sun</td><td>94.3</td><td> 96.3</td><td>200.0</td><td>56.1</td><td>21.0</td><td>44</td><td>4.5</td><td>0.0</td><td>0</td></tr>\n",
              "\t<tr><td>7</td><td>4</td><td> 8</td><td>sat</td><td>90.2</td><td>110.9</td><td>537.4</td><td> 6.2</td><td>19.5</td><td>43</td><td>5.8</td><td>0.0</td><td>0</td></tr>\n",
              "\t<tr><td>7</td><td>4</td><td> 8</td><td>sat</td><td>93.5</td><td>139.4</td><td>594.2</td><td>20.3</td><td>23.7</td><td>32</td><td>5.8</td><td>0.0</td><td>0</td></tr>\n",
              "\t<tr><td>7</td><td>4</td><td> 8</td><td>sun</td><td>91.4</td><td>142.4</td><td>601.4</td><td>10.6</td><td>16.3</td><td>60</td><td>5.4</td><td>0.0</td><td>0</td></tr>\n",
              "\t<tr><td>7</td><td>4</td><td> 9</td><td>fri</td><td>92.4</td><td>117.9</td><td>668.0</td><td>12.2</td><td>19.0</td><td>34</td><td>5.8</td><td>0.0</td><td>0</td></tr>\n",
              "\t<tr><td>7</td><td>4</td><td> 9</td><td>mon</td><td>90.9</td><td>126.5</td><td>686.5</td><td> 7.0</td><td>19.4</td><td>48</td><td>1.3</td><td>0.0</td><td>0</td></tr>\n",
              "\t<tr><td>6</td><td>3</td><td> 9</td><td>sat</td><td>93.4</td><td>145.4</td><td>721.4</td><td> 8.1</td><td>30.2</td><td>24</td><td>2.7</td><td>0.0</td><td>0</td></tr>\n",
              "\t<tr><td>6</td><td>3</td><td> 9</td><td>sun</td><td>93.5</td><td>149.3</td><td>728.6</td><td> 8.1</td><td>22.8</td><td>39</td><td>3.6</td><td>0.0</td><td>0</td></tr>\n",
              "\t<tr><td>⋮</td><td>⋮</td><td>⋮</td><td>⋮</td><td>⋮</td><td>⋮</td><td>⋮</td><td>⋮</td><td>⋮</td><td>⋮</td><td>⋮</td><td>⋮</td><td>⋮</td></tr>\n",
              "\t<tr><td>5</td><td>4</td><td> 8</td><td>tue</td><td>95.1</td><td>141.3</td><td>605.8</td><td>17.7</td><td>26.4</td><td>34</td><td>3.6</td><td>0.0</td><td>16.40</td></tr>\n",
              "\t<tr><td>4</td><td>4</td><td> 8</td><td>tue</td><td>95.1</td><td>141.3</td><td>605.8</td><td>17.7</td><td>19.4</td><td>71</td><td>7.6</td><td>0.0</td><td>46.70</td></tr>\n",
              "\t<tr><td>4</td><td>4</td><td> 8</td><td>wed</td><td>95.1</td><td>141.3</td><td>605.8</td><td>17.7</td><td>20.6</td><td>58</td><td>1.3</td><td>0.0</td><td> 0.00</td></tr>\n",
              "\t<tr><td>4</td><td>4</td><td> 8</td><td>wed</td><td>95.1</td><td>141.3</td><td>605.8</td><td>17.7</td><td>28.7</td><td>33</td><td>4.0</td><td>0.0</td><td> 0.00</td></tr>\n",
              "\t<tr><td>4</td><td>4</td><td> 8</td><td>thu</td><td>95.8</td><td>152.0</td><td>624.1</td><td>13.8</td><td>32.4</td><td>21</td><td>4.5</td><td>0.0</td><td> 0.00</td></tr>\n",
              "\t<tr><td>1</td><td>3</td><td> 8</td><td>fri</td><td>95.9</td><td>158.0</td><td>633.6</td><td>11.3</td><td>32.4</td><td>27</td><td>2.2</td><td>0.0</td><td> 0.00</td></tr>\n",
              "\t<tr><td>1</td><td>3</td><td> 8</td><td>fri</td><td>95.9</td><td>158.0</td><td>633.6</td><td>11.3</td><td>27.5</td><td>29</td><td>4.5</td><td>0.0</td><td>43.32</td></tr>\n",
              "\t<tr><td>6</td><td>6</td><td> 8</td><td>sat</td><td>96.0</td><td>164.0</td><td>643.0</td><td>14.0</td><td>30.8</td><td>30</td><td>4.9</td><td>0.0</td><td> 8.59</td></tr>\n",
              "\t<tr><td>6</td><td>6</td><td> 8</td><td>mon</td><td>96.2</td><td>175.5</td><td>661.8</td><td>16.8</td><td>23.9</td><td>42</td><td>2.2</td><td>0.0</td><td> 0.00</td></tr>\n",
              "\t<tr><td>4</td><td>5</td><td> 8</td><td>mon</td><td>96.2</td><td>175.5</td><td>661.8</td><td>16.8</td><td>32.6</td><td>26</td><td>3.1</td><td>0.0</td><td> 2.77</td></tr>\n",
              "\t<tr><td>3</td><td>4</td><td> 8</td><td>tue</td><td>96.1</td><td>181.1</td><td>671.2</td><td>14.3</td><td>32.3</td><td>27</td><td>2.2</td><td>0.0</td><td>14.68</td></tr>\n",
              "\t<tr><td>6</td><td>5</td><td> 8</td><td>tue</td><td>96.1</td><td>181.1</td><td>671.2</td><td>14.3</td><td>33.3</td><td>26</td><td>2.7</td><td>0.0</td><td>40.54</td></tr>\n",
              "\t<tr><td>7</td><td>5</td><td> 8</td><td>tue</td><td>96.1</td><td>181.1</td><td>671.2</td><td>14.3</td><td>27.3</td><td>63</td><td>4.9</td><td>6.4</td><td>10.82</td></tr>\n",
              "\t<tr><td>8</td><td>6</td><td> 8</td><td>tue</td><td>96.1</td><td>181.1</td><td>671.2</td><td>14.3</td><td>21.6</td><td>65</td><td>4.9</td><td>0.8</td><td> 0.00</td></tr>\n",
              "\t<tr><td>7</td><td>5</td><td> 8</td><td>tue</td><td>96.1</td><td>181.1</td><td>671.2</td><td>14.3</td><td>21.6</td><td>65</td><td>4.9</td><td>0.8</td><td> 0.00</td></tr>\n",
              "\t<tr><td>4</td><td>4</td><td> 8</td><td>tue</td><td>96.1</td><td>181.1</td><td>671.2</td><td>14.3</td><td>20.7</td><td>69</td><td>4.9</td><td>0.4</td><td> 0.00</td></tr>\n",
              "\t<tr><td>2</td><td>4</td><td> 8</td><td>wed</td><td>94.5</td><td>139.4</td><td>689.1</td><td>20.0</td><td>29.2</td><td>30</td><td>4.9</td><td>0.0</td><td> 1.95</td></tr>\n",
              "\t<tr><td>4</td><td>3</td><td> 8</td><td>wed</td><td>94.5</td><td>139.4</td><td>689.1</td><td>20.0</td><td>28.9</td><td>29</td><td>4.9</td><td>0.0</td><td>49.59</td></tr>\n",
              "\t<tr><td>1</td><td>2</td><td> 8</td><td>thu</td><td>91.0</td><td>163.2</td><td>744.4</td><td>10.1</td><td>26.7</td><td>35</td><td>1.8</td><td>0.0</td><td> 5.80</td></tr>\n",
              "\t<tr><td>1</td><td>2</td><td> 8</td><td>fri</td><td>91.0</td><td>166.9</td><td>752.6</td><td> 7.1</td><td>18.5</td><td>73</td><td>8.5</td><td>0.0</td><td> 0.00</td></tr>\n",
              "\t<tr><td>2</td><td>4</td><td> 8</td><td>fri</td><td>91.0</td><td>166.9</td><td>752.6</td><td> 7.1</td><td>25.9</td><td>41</td><td>3.6</td><td>0.0</td><td> 0.00</td></tr>\n",
              "\t<tr><td>1</td><td>2</td><td> 8</td><td>fri</td><td>91.0</td><td>166.9</td><td>752.6</td><td> 7.1</td><td>25.9</td><td>41</td><td>3.6</td><td>0.0</td><td> 0.00</td></tr>\n",
              "\t<tr><td>5</td><td>4</td><td> 8</td><td>fri</td><td>91.0</td><td>166.9</td><td>752.6</td><td> 7.1</td><td>21.1</td><td>71</td><td>7.6</td><td>1.4</td><td> 2.17</td></tr>\n",
              "\t<tr><td>6</td><td>5</td><td> 8</td><td>fri</td><td>91.0</td><td>166.9</td><td>752.6</td><td> 7.1</td><td>18.2</td><td>62</td><td>5.4</td><td>0.0</td><td> 0.43</td></tr>\n",
              "\t<tr><td>8</td><td>6</td><td> 8</td><td>sun</td><td>81.6</td><td> 56.7</td><td>665.6</td><td> 1.9</td><td>27.8</td><td>35</td><td>2.7</td><td>0.0</td><td> 0.00</td></tr>\n",
              "\t<tr><td>4</td><td>3</td><td> 8</td><td>sun</td><td>81.6</td><td> 56.7</td><td>665.6</td><td> 1.9</td><td>27.8</td><td>32</td><td>2.7</td><td>0.0</td><td> 6.44</td></tr>\n",
              "\t<tr><td>2</td><td>4</td><td> 8</td><td>sun</td><td>81.6</td><td> 56.7</td><td>665.6</td><td> 1.9</td><td>21.9</td><td>71</td><td>5.8</td><td>0.0</td><td>54.29</td></tr>\n",
              "\t<tr><td>7</td><td>4</td><td> 8</td><td>sun</td><td>81.6</td><td> 56.7</td><td>665.6</td><td> 1.9</td><td>21.2</td><td>70</td><td>6.7</td><td>0.0</td><td>11.16</td></tr>\n",
              "\t<tr><td>1</td><td>4</td><td> 8</td><td>sat</td><td>94.4</td><td>146.0</td><td>614.7</td><td>11.3</td><td>25.6</td><td>42</td><td>4.0</td><td>0.0</td><td> 0.00</td></tr>\n",
              "\t<tr><td>6</td><td>3</td><td>11</td><td>tue</td><td>79.5</td><td>  3.0</td><td>106.7</td><td> 1.1</td><td>11.8</td><td>31</td><td>4.5</td><td>0.0</td><td> 0.00</td></tr>\n",
              "</tbody>\n",
              "</table>\n"
            ]
          },
          "metadata": {}
        }
      ]
    },
    {
      "cell_type": "code",
      "source": [
        "fireinmonths <- df %>%\n",
        "  group_by(month) %>%\n",
        "  summarize(count = n())\n",
        "ggplot(fireinmonths) +\n",
        "  aes(x = month, y = count) + \n",
        "  geom_bar(stat = \"identity\") + \n",
        "  labs(title = \"Fires occurred in each month\", x = \"Month\", y = \"Fires\") + \n",
        "  theme(panel.background = element_rect(fill = \"white\"))  "
      ],
      "metadata": {
        "colab": {
          "base_uri": "https://localhost:8080/",
          "height": 437
        },
        "id": "F_NNH6D7c2X_",
        "outputId": "e53bc793-415c-45ac-d4e9-92a29aaa11b4"
      },
      "execution_count": 22,
      "outputs": [
        {
          "output_type": "display_data",
          "data": {
            "image/png": "[encoded data removed]",
            "text/plain": [
              "plot without title"
            ]
          },
          "metadata": {
            "image/png": {
              "width": 420,
              "height": 420
            }
          }
        }
      ]
    }
  ]
}